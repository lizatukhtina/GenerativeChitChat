{
  "cells": [
    {
      "cell_type": "markdown",
      "metadata": {
        "id": "Kp8Rt-_nhcQO"
      },
      "source": [
        "# Task Description"
      ]
    },
    {
      "cell_type": "markdown",
      "metadata": {
        "id": "lBcSYTFXhgoa"
      },
      "source": [
        "Задача: генерация овета по вопросу\n",
        "<br>\n",
        "Пример:\n",
        "<br>\n",
        "Input: что почитать? мне 10.\n",
        "<br>\n",
        "Ответ модели: почитай стивена кинга"
      ]
    },
    {
      "cell_type": "markdown",
      "metadata": {
        "id": "OfmFB5aYjfKj"
      },
      "source": [
        "# Required Imports"
      ]
    },
    {
      "cell_type": "code",
      "execution_count": null,
      "metadata": {
        "id": "J-asTKSIjjf-"
      },
      "outputs": [],
      "source": [
        "# !pip install youtokentome"
      ]
    },
    {
      "cell_type": "code",
      "execution_count": 4,
      "metadata": {
        "id": "2Ao-S3dBdIP3"
      },
      "outputs": [],
      "source": [
        "import math\n",
        "import re\n",
        "import numpy as np\n",
        "import pandas as pd\n",
        "\n",
        "import random\n",
        "import json\n",
        "import torch\n",
        "from torch.utils.data import Dataset, DataLoader\n",
        "from torch import nn\n",
        "\n",
        "from tqdm.auto import tqdm\n",
        "\n",
        "from matplotlib import pyplot as plt\n",
        "\n",
        "import youtokentome as yttm"
      ]
    },
    {
      "cell_type": "markdown",
      "metadata": {
        "id": "1-8MPZlBkCRO"
      },
      "source": [
        "# Data"
      ]
    },
    {
      "cell_type": "code",
      "execution_count": 5,
      "metadata": {
        "id": "3JJt6dvikDfG"
      },
      "outputs": [],
      "source": [
        "data = open('train.txt').readlines()"
      ]
    },
    {
      "cell_type": "code",
      "execution_count": 6,
      "metadata": {
        "id": "BwNsLtRZlEQL"
      },
      "outputs": [],
      "source": [
        "questions = [row.replace('\\n', '').split('\\t')[0] for row in data]"
      ]
    },
    {
      "cell_type": "code",
      "execution_count": 7,
      "metadata": {
        "id": "Ubjof7LDl1qI"
      },
      "outputs": [],
      "source": [
        "answers = [row.replace('\\n', '').split('\\t')[1] for row in data]"
      ]
    },
    {
      "cell_type": "markdown",
      "source": [
        "Берем 1 млн. пар вопрос-ответ для обучения"
      ],
      "metadata": {
        "id": "ubeuEssWl7vn"
      }
    },
    {
      "cell_type": "code",
      "execution_count": 8,
      "metadata": {
        "id": "Buc0JuOIN9l-"
      },
      "outputs": [],
      "source": [
        "questions = questions[0:1_000_000]\n",
        "answers = answers[0:1_000_000]"
      ]
    },
    {
      "cell_type": "markdown",
      "source": [
        "Пример данных:"
      ],
      "metadata": {
        "id": "5FBStt2ClqIP"
      }
    },
    {
      "cell_type": "code",
      "source": [
        "for q,a in zip(questions[46:50], answers[46:50]):\n",
        "  print(f'q: {q}\\na: {a}')"
      ],
      "metadata": {
        "colab": {
          "base_uri": "https://localhost:8080/"
        },
        "id": "8F67d4rRj9zx",
        "outputId": "89589af3-c29b-4bf7-f8d2-377178541b9f"
      },
      "execution_count": 9,
      "outputs": [
        {
          "output_type": "stream",
          "name": "stdout",
          "text": [
            "q: а вы часто едете по встречной полосе.или чаще как все?)\n",
            " a: на дорогах я соблюдаю правила; но не в жизни:)\n",
            "q: что можно маме подарить\n",
            " a: оренбургский пуховый платок.\n",
            "q: а тишина может быть яркой ?\n",
            " a: может быть полной\n",
            "q: от вашего имени. какие можно соорудить производные)?\n",
            " a: дианка-диванка, дианчик, ди\n"
          ]
        }
      ]
    },
    {
      "cell_type": "markdown",
      "metadata": {
        "id": "lYzfAN9Gr_JZ"
      },
      "source": [
        "# BPE tokenization"
      ]
    },
    {
      "cell_type": "code",
      "execution_count": 10,
      "metadata": {
        "id": "TyuqABAySV69"
      },
      "outputs": [],
      "source": [
        "pad_index = 0 # pad-индекс\n",
        "bos_index = 2 # индекс начала предложения\n",
        "eos_index = 3 # индекс конца предложения\n",
        "\n",
        "vocab_size = 30_000 # размер словаря"
      ]
    },
    {
      "cell_type": "markdown",
      "source": [
        "\"Обучаем\" токенизатор на вопросах и ответах из датасета:\n"
      ],
      "metadata": {
        "id": "bm7x8nDimSG-"
      }
    },
    {
      "cell_type": "code",
      "source": [
        "with open('for_bpe.txt', 'w', encoding='utf-8') as f:\n",
        "  for q,a in zip(questions, answers):\n",
        "      f.write(q + '\\n')\n",
        "      f.write(a + '\\n')\n",
        "\n",
        "model_path = 'pretrained_bpe_lm.model'\n",
        "\n",
        "yttm.BPE.train(data='for_bpe.txt', vocab_size=vocab_size, model=model_path)\n"
      ],
      "metadata": {
        "colab": {
          "base_uri": "https://localhost:8080/"
        },
        "id": "0sah7a0qZShT",
        "outputId": "9a7fc4e9-3a28-4923-df05-f281c29d2cd5"
      },
      "execution_count": 11,
      "outputs": [
        {
          "output_type": "execute_result",
          "data": {
            "text/plain": [
              "<youtokentome.youtokentome.BPE at 0x7fe8b366f0a0>"
            ]
          },
          "metadata": {},
          "execution_count": 11
        }
      ]
    },
    {
      "cell_type": "code",
      "execution_count": 12,
      "metadata": {
        "id": "NS4sahrhO_7e"
      },
      "outputs": [],
      "source": [
        "def bpe_tokenization(texts):\n",
        "  \"\"\"BPE tokenizer\"\"\"\n",
        "  \n",
        "  tokenizer = yttm.BPE(model=model_path)      \n",
        "\n",
        "  tokenized = []\n",
        "\n",
        "  batch_size = 256\n",
        "\n",
        "  for i_batch in tqdm(range(math.ceil(len(texts) / batch_size))):\n",
        "      \n",
        "      tokenized.extend(tokenizer.encode(\n",
        "          list(texts[i_batch*batch_size:(i_batch+1)*batch_size]), bos=False, eos=False))\n",
        "      \n",
        "  return tokenized      "
      ]
    },
    {
      "cell_type": "code",
      "execution_count": 13,
      "metadata": {
        "colab": {
          "base_uri": "https://localhost:8080/",
          "height": 49,
          "referenced_widgets": [
            "568f229ead1a4979b502f391a38390c4",
            "8c49d4761d3744cfb9a6c7ffd090d796",
            "25a0db9447764e039bb61b2d0eb1a176",
            "1c272569f3d2465ead8b5887f0163530",
            "dd163921a8e44e0388db71a9cdec6f71",
            "d21e8d89f69346df886a01964e835394",
            "a653ee4e71d14b06b744cbb1e5d86fd7",
            "0e027855565e4707a67c54785a1433fc",
            "cd4baaf758214fbe8f619f573501dcd5",
            "c0a3d2ca99594b058ea840e5ebe99f8c",
            "7101916097d84a90a5ab56d8e0b9a8cf"
          ]
        },
        "id": "noH1PWe4S_Ol",
        "outputId": "236e4a08-bd82-4a99-e066-b7d7c3a554bc"
      },
      "outputs": [
        {
          "output_type": "display_data",
          "data": {
            "text/plain": [
              "  0%|          | 0/3907 [00:00<?, ?it/s]"
            ],
            "application/vnd.jupyter.widget-view+json": {
              "version_major": 2,
              "version_minor": 0,
              "model_id": "568f229ead1a4979b502f391a38390c4"
            }
          },
          "metadata": {}
        }
      ],
      "source": [
        "tokenized_questions = bpe_tokenization(questions)"
      ]
    },
    {
      "cell_type": "code",
      "execution_count": 14,
      "metadata": {
        "colab": {
          "base_uri": "https://localhost:8080/",
          "height": 49,
          "referenced_widgets": [
            "d5332b80add942cd9773d2d65383335c",
            "6ec1d9995c1a4e5198e7c101a32d28aa",
            "c4296b27d3e94cce96f6fd103a442e65",
            "49ab6e76209046639d317f09501d799d",
            "b1ea29711a4945cd94bd970195813ea1",
            "525f7482fe2a42b9979ce90efe7ac48a",
            "b9bd3171f030490d89051515d409e17e",
            "cf431f1173b948d28ee525cc652a6b03",
            "e164bdb3e01547e48e307804b6ef48a5",
            "eb589045069247399b237904bb56d235",
            "f4317aaea1ee40a698dd3bba593163c8"
          ]
        },
        "id": "0QKsirg0TinR",
        "outputId": "30b935bc-c317-443c-e052-934bcc8a46f5"
      },
      "outputs": [
        {
          "output_type": "display_data",
          "data": {
            "text/plain": [
              "  0%|          | 0/3907 [00:00<?, ?it/s]"
            ],
            "application/vnd.jupyter.widget-view+json": {
              "version_major": 2,
              "version_minor": 0,
              "model_id": "d5332b80add942cd9773d2d65383335c"
            }
          },
          "metadata": {}
        }
      ],
      "source": [
        "tokenized_responses = bpe_tokenization(answers)"
      ]
    },
    {
      "cell_type": "markdown",
      "metadata": {
        "id": "znxX4ZHBUJyZ"
      },
      "source": [
        "## Dataset"
      ]
    },
    {
      "cell_type": "code",
      "execution_count": 15,
      "metadata": {
        "id": "_R2wqS5iprNG"
      },
      "outputs": [],
      "source": [
        "class SeqToSeqDataset(torch.utils.data.Dataset):\n",
        "\n",
        "    def __init__(self, tokenized_questions, tokenized_responses):\n",
        "        \n",
        "        self.questions = tokenized_questions\n",
        "        self.responses = tokenized_responses\n",
        "\n",
        "    def __len__(self):\n",
        "        return len(self.questions)\n",
        "\n",
        "    def padding(self, tokenized):\n",
        "      max_batch_length = 0 # максимальная длина последовательности в батче\n",
        "\n",
        "      for sequence in tokenized:\n",
        "        max_batch_length = max(max_batch_length, len(sequence))\n",
        "      \n",
        "      for n_sequence in range(len(tokenized)):\n",
        "        pads = [pad_index] * (max_batch_length - len(tokenized[n_sequence]))\n",
        "        tokenized[n_sequence] = [bos_index] + tokenized[n_sequence] + [eos_index] +  pads\n",
        "\n",
        "      return tokenized\n",
        "\n",
        "    def __getitem__(self, index):\n",
        "        batch_qestions = torch.tensor(self.padding(self.questions[index])).long() # вопросы\n",
        "        responses = torch.tensor(self.padding(self.responses[index])).long() \n",
        "        batch_responses = responses[:, :-1]\n",
        "        batch_true = responses[:, 1:]\n",
        "        \n",
        "        return batch_qestions, batch_responses, batch_true"
      ]
    },
    {
      "cell_type": "code",
      "execution_count": 16,
      "metadata": {
        "id": "r7dRQfCkr3Pq"
      },
      "outputs": [],
      "source": [
        "batch_size = 256\n",
        "\n",
        "batches_questions = [] # батчи с вопросами\n",
        "\n",
        "for i_batch in range(math.ceil(len(tokenized_questions) / batch_size)):\n",
        "    \n",
        "    batches_questions.append(tokenized_questions[i_batch*batch_size:(i_batch+1)*batch_size])"
      ]
    },
    {
      "cell_type": "code",
      "execution_count": 17,
      "metadata": {
        "id": "MvXAl6DzsyQ1"
      },
      "outputs": [],
      "source": [
        "batch_size = 256\n",
        "\n",
        "batches_responses = [] # батчи с ответами\n",
        "\n",
        "for i_batch in range(math.ceil(len(tokenized_responses) / batch_size)):\n",
        "    \n",
        "    batches_responses.append(tokenized_responses[i_batch*batch_size:(i_batch+1)*batch_size])"
      ]
    },
    {
      "cell_type": "code",
      "source": [
        "len(batches_questions) # число батчей"
      ],
      "metadata": {
        "id": "NW5nAf07iC5J"
      },
      "execution_count": null,
      "outputs": []
    },
    {
      "cell_type": "code",
      "execution_count": 18,
      "metadata": {
        "id": "9MvD4xFjs60H"
      },
      "outputs": [],
      "source": [
        "assert len(batches_questions) == len(batches_responses)"
      ]
    },
    {
      "cell_type": "code",
      "execution_count": 19,
      "metadata": {
        "id": "-EFwkN0ms9MZ"
      },
      "outputs": [],
      "source": [
        "validation_start_index = int(len(batches_questions) * 0.05) # индекс начала валидационной выборки (95/5)"
      ]
    },
    {
      "cell_type": "code",
      "execution_count": 20,
      "metadata": {
        "id": "9JUF48t1tGGc"
      },
      "outputs": [],
      "source": [
        "train_dataset = SeqToSeqDataset(batches_questions[:-validation_start_index], batches_responses[:-validation_start_index])\n",
        "validation_dataset = SeqToSeqDataset(batches_questions[-validation_start_index:], batches_responses[-validation_start_index:])"
      ]
    },
    {
      "cell_type": "code",
      "execution_count": 21,
      "metadata": {
        "id": "ykhxYt4ZAs_9"
      },
      "outputs": [],
      "source": [
        "def collate_fn(x):\n",
        "    \"\"\"remove extra-dimention\"\"\"\n",
        "    \n",
        "    x, y, z = x[0]\n",
        "\n",
        "    return x, y, z"
      ]
    },
    {
      "cell_type": "markdown",
      "source": [
        "Оборачиваем данные в DataLoader:"
      ],
      "metadata": {
        "id": "gdO-tKmuiJZW"
      }
    },
    {
      "cell_type": "code",
      "execution_count": 22,
      "metadata": {
        "id": "VUP_YPODujr5"
      },
      "outputs": [],
      "source": [
        "train_loader = torch.utils.data.DataLoader(train_dataset, \n",
        "                                           batch_size=1,\n",
        "                                           collate_fn=collate_fn,\n",
        "                                           shuffle=False)\n",
        "\n",
        "validation_loader = torch.utils.data.DataLoader(validation_dataset,\n",
        "                                                batch_size=1,\n",
        "                                                collate_fn=collate_fn,\n",
        "                                                shuffle=False)"
      ]
    },
    {
      "cell_type": "markdown",
      "source": [
        "Проверка итератора"
      ],
      "metadata": {
        "id": "vpnKonRWnPOi"
      }
    },
    {
      "cell_type": "code",
      "execution_count": 23,
      "metadata": {
        "colab": {
          "base_uri": "https://localhost:8080/",
          "height": 49,
          "referenced_widgets": [
            "7e04970f190f41ba9c54052a602a8949",
            "cf9c18b429f5482082520994e7213e20",
            "357757c26947417eb8bca87bf537960c",
            "e57c99e0da1246fda89a1ab69a92a0ae",
            "5282b2ffeea44574897119af323e5dfb",
            "4c84dabbf20941fe86d14c5e91368206",
            "4f2afd75715e4f278c6ef6ef4e8d0c1b",
            "2fcf9697b1324277a31d5c7bb70a3b38",
            "f19631d5cc744619827980c3c19e4414",
            "e4fa73fb215d4e6898aef273ce0901f8",
            "abf509382a3e42489222f14e9fd82175"
          ]
        },
        "id": "Art-b_MPuqiH",
        "outputId": "ab88cec8-824c-4d74-a452-536dfac5a471"
      },
      "outputs": [
        {
          "output_type": "display_data",
          "data": {
            "text/plain": [
              "Testing:   0%|          | 0/195 [00:00<?, ?it/s]"
            ],
            "application/vnd.jupyter.widget-view+json": {
              "version_major": 2,
              "version_minor": 0,
              "model_id": "7e04970f190f41ba9c54052a602a8949"
            }
          },
          "metadata": {}
        }
      ],
      "source": [
        "progress_bar = tqdm(total=len(validation_loader.dataset), desc='Testing')\n",
        "\n",
        "for x, y, z in validation_loader:\n",
        "    progress_bar.update()\n",
        "    \n",
        "progress_bar.close()"
      ]
    },
    {
      "cell_type": "code",
      "execution_count": null,
      "metadata": {
        "id": "TW4LEGwsuxhA"
      },
      "outputs": [],
      "source": [
        "x"
      ]
    },
    {
      "cell_type": "code",
      "execution_count": null,
      "metadata": {
        "id": "sZNfqPApuzAq"
      },
      "outputs": [],
      "source": [
        "y"
      ]
    },
    {
      "cell_type": "code",
      "execution_count": null,
      "metadata": {
        "id": "I9ZlWTmKu02i"
      },
      "outputs": [],
      "source": [
        "z"
      ]
    },
    {
      "cell_type": "markdown",
      "metadata": {
        "id": "x2scmdwomq35"
      },
      "source": [
        "## Encoder-Decoder Blocks"
      ]
    },
    {
      "cell_type": "code",
      "execution_count": 24,
      "metadata": {
        "id": "b1Ec5StwnCss"
      },
      "outputs": [],
      "source": [
        "embedding_layer = nn.Embedding(num_embeddings=vocab_size, embedding_dim=512) # один слой эмбеддингов для энкодера и декодера"
      ]
    },
    {
      "cell_type": "code",
      "execution_count": 25,
      "metadata": {
        "id": "6WOZSpkMm1AG"
      },
      "outputs": [],
      "source": [
        "class Encoder(nn.Module):\n",
        "  \"\"\"Encoder block\"\"\"\n",
        "  \n",
        "  def __init__(self, embedding_layer):\n",
        "    super().__init__()\n",
        "\n",
        "    self.embedding_layer = embedding_layer # слой эмбеддингов\n",
        "\n",
        "    self.backbone = nn.LSTM(input_size=512, hidden_size=512, num_layers=3, batch_first=True, dropout=0.25) # 3-х слойная LSTM\n",
        "\n",
        "  def forward(self, x):\n",
        "\n",
        "    x_emb = self.embedding_layer(x)\n",
        "\n",
        "    x_backbone, memory = self.backbone(x_emb)\n",
        "\n",
        "    return x_backbone, memory"
      ]
    },
    {
      "cell_type": "code",
      "execution_count": 26,
      "metadata": {
        "id": "PMSN7yQQm5Ns"
      },
      "outputs": [],
      "source": [
        "class Decoder(nn.Module):\n",
        "  \"\"\"Decoder block\"\"\"\n",
        "\n",
        "  def __init__(self, embedding_layer):\n",
        "    super().__init__()\n",
        "\n",
        "    self.embedding_layer = embedding_layer\n",
        "\n",
        "    self.backbone = nn.LSTM(input_size=512, hidden_size=512, num_layers=3, batch_first=True, dropout=0.25)\n",
        "\n",
        "  def forward(self, x, encoder_memory):\n",
        "\n",
        "    x_emb = self.embedding_layer(x)\n",
        "\n",
        "    x_backbone, _ = self.backbone(x_emb, encoder_memory)\n",
        "\n",
        "    return x_backbone"
      ]
    },
    {
      "cell_type": "code",
      "execution_count": 27,
      "metadata": {
        "id": "3IMXiwUSV6f2"
      },
      "outputs": [],
      "source": [
        "class EncoderDecoder(nn.Module):\n",
        "  \"\"\"Encoder-Decoder Model\"\"\"\n",
        "\n",
        "  def __init__(self, encoder, decoder):\n",
        "    super().__init__()\n",
        "\n",
        "    self.encoder = encoder\n",
        "    self.decoder = decoder\n",
        "\n",
        "    self.lm_head = nn.Linear(512, vocab_size) # вероятность следующего токена, выбираем из 55К\n",
        "\n",
        "  def forward(self, encoder_sequence, decoder_sequence):\n",
        "    _, memory = self.encoder(encoder_sequence)\n",
        "    decoder_hidden = self.decoder(decoder_sequence, memory)\n",
        "\n",
        "    logits = self.lm_head(decoder_hidden) \n",
        "\n",
        "    return logits"
      ]
    },
    {
      "cell_type": "markdown",
      "source": [
        "# Train & Evaluate logic"
      ],
      "metadata": {
        "id": "JahnP3sSkzA8"
      }
    },
    {
      "cell_type": "code",
      "execution_count": 28,
      "metadata": {
        "id": "G4T7b64andIh"
      },
      "outputs": [],
      "source": [
        "def train(model, loader, criterion, optimizer, clip=3., last_n_losses=500, verbose=True):\n",
        "    \n",
        "    losses = []\n",
        "\n",
        "    progress_bar = tqdm(total=len(loader.dataset), disable=not verbose, desc='Train')\n",
        "\n",
        "    model.train()\n",
        "\n",
        "    for q, x, y in loader:\n",
        "\n",
        "        q = q.to(device)\n",
        "        x = x.to(device)\n",
        "        y = y.to(device)\n",
        "\n",
        "        logits = model(q,x) \n",
        "\n",
        "        loss = criterion(logits.view(-1, logits.size(-1)), y.view(-1))\n",
        "        \n",
        "        optimizer.zero_grad()\n",
        "        loss.backward()\n",
        "        # рассчитали градиенты и клипаем их\n",
        "        torch.nn.utils.clip_grad_norm_(model.parameters(), clip)\n",
        "        optimizer.step()\n",
        "\n",
        "        losses.append(loss.item())\n",
        "\n",
        "        progress_bar.set_postfix(loss=np.mean(losses[-last_n_losses:]),\n",
        "                                 perplexity=np.exp(np.mean(losses[-last_n_losses:])))\n",
        "\n",
        "        progress_bar.update()\n",
        "\n",
        "    progress_bar.close()\n",
        "    \n",
        "    return losses"
      ]
    },
    {
      "cell_type": "code",
      "execution_count": 29,
      "metadata": {
        "id": "5L2OteFbZSCd"
      },
      "outputs": [],
      "source": [
        "# фукнция для расчета метрик на тесте\n",
        "\n",
        "def evaluate(model, loader, criterion, last_n_losses=500, verbose=True):\n",
        "    \n",
        "    losses = []\n",
        "\n",
        "    progress_bar = tqdm(total=len(loader), disable=not verbose, desc='Evaluate')\n",
        "\n",
        "    model.eval()\n",
        "\n",
        "    for q, x, y in loader:\n",
        "\n",
        "        q = q.to(device)\n",
        "        x = x.to(device)\n",
        "        y = y.to(device)\n",
        "\n",
        "        with torch.no_grad():\n",
        "            logits = model(q, x)\n",
        "\n",
        "        loss = criterion(logits.view(-1, logits.size(-1)), y.view(-1))\n",
        "\n",
        "        losses.append(loss.item())\n",
        "\n",
        "        progress_bar.set_postfix(loss=np.mean(losses[-last_n_losses:]),\n",
        "                                 perplexity=np.exp(np.mean(losses[-last_n_losses:])))\n",
        "\n",
        "        progress_bar.update()\n",
        "\n",
        "    progress_bar.close()\n",
        "    \n",
        "    return losses"
      ]
    },
    {
      "cell_type": "markdown",
      "source": [
        "# Model Initialization"
      ],
      "metadata": {
        "id": "3Kb3KNDCk8mz"
      }
    },
    {
      "cell_type": "code",
      "execution_count": 30,
      "metadata": {
        "id": "KAV7IyT0nUEb"
      },
      "outputs": [],
      "source": [
        "encoder = Encoder(embedding_layer)"
      ]
    },
    {
      "cell_type": "code",
      "execution_count": 31,
      "metadata": {
        "id": "eoXGCEC5E95v"
      },
      "outputs": [],
      "source": [
        "decoder = Decoder(embedding_layer)"
      ]
    },
    {
      "cell_type": "code",
      "execution_count": 32,
      "metadata": {
        "id": "1Kwh7SWNXZcJ"
      },
      "outputs": [],
      "source": [
        "model = EncoderDecoder(encoder, decoder)"
      ]
    },
    {
      "cell_type": "code",
      "execution_count": 33,
      "metadata": {
        "id": "EBn9t6WZCIJl"
      },
      "outputs": [],
      "source": [
        "device = torch.device('cuda:0')"
      ]
    },
    {
      "cell_type": "code",
      "execution_count": 34,
      "metadata": {
        "id": "f3wlHwCUF6_0",
        "colab": {
          "base_uri": "https://localhost:8080/"
        },
        "outputId": "54255ac4-c492-4e09-aa11-22a6b433acea"
      },
      "outputs": [
        {
          "output_type": "execute_result",
          "data": {
            "text/plain": [
              "EncoderDecoder(\n",
              "  (encoder): Encoder(\n",
              "    (embedding_layer): Embedding(30000, 512)\n",
              "    (backbone): LSTM(512, 512, num_layers=3, batch_first=True, dropout=0.25)\n",
              "  )\n",
              "  (decoder): Decoder(\n",
              "    (embedding_layer): Embedding(30000, 512)\n",
              "    (backbone): LSTM(512, 512, num_layers=3, batch_first=True, dropout=0.25)\n",
              "  )\n",
              "  (lm_head): Linear(in_features=512, out_features=30000, bias=True)\n",
              ")"
            ]
          },
          "metadata": {},
          "execution_count": 34
        }
      ],
      "source": [
        "model.to(device)"
      ]
    },
    {
      "cell_type": "code",
      "execution_count": 35,
      "metadata": {
        "id": "wCt0LHY2G8Nc"
      },
      "outputs": [],
      "source": [
        "optimizer = torch.optim.Adam(params=model.parameters())"
      ]
    },
    {
      "cell_type": "code",
      "execution_count": 36,
      "metadata": {
        "id": "dXAAvGFUDZC0"
      },
      "outputs": [],
      "source": [
        "criterion = nn.CrossEntropyLoss(ignore_index=pad_index)"
      ]
    },
    {
      "cell_type": "code",
      "execution_count": 38,
      "metadata": {
        "id": "PWf6XpWkYjbs"
      },
      "outputs": [],
      "source": [
        "def count_parameters(model):\n",
        "    return sum(p.numel() for p in model.parameters() if p.requires_grad)"
      ]
    },
    {
      "cell_type": "code",
      "execution_count": 39,
      "metadata": {
        "colab": {
          "base_uri": "https://localhost:8080/"
        },
        "id": "TrNZ2ZVAYf1F",
        "outputId": "9cba5dfc-dd0e-4250-b919-a70c9e8481c4"
      },
      "outputs": [
        {
          "output_type": "stream",
          "name": "stdout",
          "text": [
            "Количество обучаемых параметров в сети: 43,357,488\n"
          ]
        }
      ],
      "source": [
        "print(f'Количество обучаемых параметров в сети: {count_parameters(model):,}')"
      ]
    },
    {
      "cell_type": "markdown",
      "source": [
        "# Model Training"
      ],
      "metadata": {
        "id": "ZLV8AYH0lUhY"
      }
    },
    {
      "cell_type": "markdown",
      "source": [
        "В данной версии ноутбука модель обучалась на GPU 2 эпохи в течение 40 минут. У меня был чуть более качественный вариант модели (где я брала побольше данных и обучала дольше), но пришлось перезапустить обучение. Поэтому для сокращения времени взяла поменьше данных и только две эпохи"
      ],
      "metadata": {
        "id": "bKQCwPJmtIi-"
      }
    },
    {
      "cell_type": "code",
      "execution_count": 40,
      "metadata": {
        "colab": {
          "base_uri": "https://localhost:8080/",
          "height": 249,
          "referenced_widgets": [
            "b89eefbf79424123aef410d1801026ea",
            "abfcc0a3dfd24330b3d45997707165f8",
            "f98da9214c9345089817232b984fd1e2",
            "b54a53e609514716820145379b80ffa7",
            "658bbd15fa3f44628685031ecc154af1",
            "1807a792768a44bc91995767a9278e7c",
            "36382a7d02674dca86ac060ceb9d6de2",
            "bf296326d46949b29f0592f8c3da1ab5",
            "a038821d4fc547fc8fd63d9a03ca2912",
            "71b5ba6219834d708a4fa50eb831dbf0",
            "a739399dd7eb4ec6bcd72a56814e09c7",
            "793dd1d2820f488dba338ba523c4837d",
            "07d78e4e8cff4166aec34b83488eefc1",
            "93e628bb1e1f4407a09793de68f5ce19",
            "713be8a030044cc4b633b9b465f6de6f",
            "d2f102673fd64ee78df0685e761b4ab2",
            "d01e98696c2048bf9c9d125329adf7b2",
            "3d32663bac56476688fc3f8a69b3e1fc",
            "98afb9180e0144b9adecb98bc15c5d6d",
            "99702c02f21e4464862f2e4b08b9f2b3",
            "8a3959fcb71f4f509c27e23958c212fd",
            "5943a04c855d402689a72224d38b2884",
            "e6c90d98c1014f53bafb1f2e93702f51",
            "36196783fb0244ef90d9a7150535c227",
            "26b6f41ebbdd408cbb52702e364d7c2e",
            "09418459219c433e82ce9b951b285c58",
            "87b2cc31a98b49338015cfee519bc9b5",
            "8005b24c7e784915adbd1e17a3a26165",
            "3cc6d35242fa41ecb5cd0fc477e3ad54",
            "feefcd00cef140109191400b5f60e290",
            "c9c9e75c31c1437bbe2c5f727a9f10e6",
            "2b08d5928860440fb16a9412da96064f",
            "9607a8e394854362a301ee3cad142afb",
            "7fefbd9532d7470ea84902f9c742fb7d",
            "1c77eb83abcc4965b84e7eb7e71d3270",
            "075febf952ee4a53b4542114b75434db",
            "b188511da7f2490bb6f8ae50c83e8cda",
            "8039889797a740f4ab65c34d6766d6d2",
            "4f5eb7cdcdf84541809d410bc63521bd",
            "7cce1553d20a437e8325af08a76268f0",
            "ddcbd2e8e3e94120b3469edb6098c6d4",
            "4ae3e5c2cec84f82ad8bed6dc033a392",
            "fa670cc3240c4721a1176e9c2df8b26a",
            "2b5911121e274ed6a15de5f43dd5aeae"
          ]
        },
        "id": "sdjDY1AbZCZd",
        "outputId": "305b9c59-0ffc-4ce1-800a-9cd5c7792e6e"
      },
      "outputs": [
        {
          "output_type": "display_data",
          "data": {
            "text/plain": [
              "Train:   0%|          | 0/3712 [00:00<?, ?it/s]"
            ],
            "application/vnd.jupyter.widget-view+json": {
              "version_major": 2,
              "version_minor": 0,
              "model_id": "b89eefbf79424123aef410d1801026ea"
            }
          },
          "metadata": {}
        },
        {
          "output_type": "display_data",
          "data": {
            "text/plain": [
              "Evaluate:   0%|          | 0/195 [00:00<?, ?it/s]"
            ],
            "application/vnd.jupyter.widget-view+json": {
              "version_major": 2,
              "version_minor": 0,
              "model_id": "793dd1d2820f488dba338ba523c4837d"
            }
          },
          "metadata": {}
        },
        {
          "output_type": "stream",
          "name": "stdout",
          "text": [
            "Epoch: 1\n",
            "Train: loss - 6.6433 | perplexity - 767.638\n",
            "Validation: loss - 6.0588 | perplexity - 427.859\n"
          ]
        },
        {
          "output_type": "display_data",
          "data": {
            "text/plain": [
              "Train:   0%|          | 0/3712 [00:00<?, ?it/s]"
            ],
            "application/vnd.jupyter.widget-view+json": {
              "version_major": 2,
              "version_minor": 0,
              "model_id": "e6c90d98c1014f53bafb1f2e93702f51"
            }
          },
          "metadata": {}
        },
        {
          "output_type": "display_data",
          "data": {
            "text/plain": [
              "Evaluate:   0%|          | 0/195 [00:00<?, ?it/s]"
            ],
            "application/vnd.jupyter.widget-view+json": {
              "version_major": 2,
              "version_minor": 0,
              "model_id": "7fefbd9532d7470ea84902f9c742fb7d"
            }
          },
          "metadata": {}
        },
        {
          "output_type": "stream",
          "name": "stdout",
          "text": [
            "Epoch: 2\n",
            "Train: loss - 4.8769 | perplexity - 131.227\n",
            "Validation: loss - 4.7059 | perplexity - 110.594\n"
          ]
        }
      ],
      "source": [
        "# задайте сколько вам комфортно обучать модель по времени\n",
        "# в идеале пару часов\n",
        "\n",
        "epochs = 2 \n",
        "\n",
        "train_losses = []\n",
        "validation_losses = []\n",
        "\n",
        "train_perplexities = []\n",
        "validation_perplexities = []\n",
        "\n",
        "best_validation_loss = 1e+6\n",
        "\n",
        "for n_epoch in range(1, epochs + 1):\n",
        "    \n",
        "    epoch_train_losses = train(model, train_loader, criterion, optimizer)\n",
        "    epoch_validation_losses = evaluate(model, validation_loader, criterion)\n",
        "    \n",
        "    mean_train_loss = np.mean(epoch_train_losses)\n",
        "    mean_validation_loss = np.mean(epoch_validation_losses)\n",
        "    \n",
        "    train_losses.append(epoch_train_losses)\n",
        "    train_perplexities.append(np.exp(mean_train_loss))\n",
        "    \n",
        "    validation_losses.append(epoch_validation_losses)\n",
        "    validation_perplexities.append(np.exp(mean_validation_loss))\n",
        "    \n",
        "    message = f'Epoch: {n_epoch}\\n'\n",
        "    message += f'Train: loss - {mean_train_loss:.4f} | perplexity - {train_perplexities[-1]:.3f}\\n'\n",
        "    message += f'Validation: loss - {mean_validation_loss:.4f} | perplexity - {validation_perplexities[-1]:.3f}'\n",
        "    \n",
        "    print(message)\n",
        "    \n",
        "    if mean_validation_loss < best_validation_loss:\n",
        "        \n",
        "        best_validation_loss = mean_validation_loss\n",
        "        \n",
        "        torch.save(model.state_dict(), f'best_language_model_state_dict.pth')\n",
        "        torch.save(optimizer.state_dict(), 'best_optimizer_state_dict.pth')\n",
        "        \n",
        "    else:\n",
        "        break\n",
        "        \n",
        "    torch.save(model.state_dict(), f'last_language_model_state_dict.pth')    \n",
        "    torch.save(optimizer.state_dict(), 'last_optimizer_state_dict.pth')\n",
        "\n",
        "    with open(f'info_{n_epoch}.json', 'w') as file_object:\n",
        "\n",
        "        info = {\n",
        "            'message': message,\n",
        "            'train_losses': train_losses,\n",
        "            'validation_losses': validation_losses,\n",
        "            'train_perplexities': train_perplexities,\n",
        "            'validation_perplexities': validation_perplexities\n",
        "        }\n",
        "\n",
        "        file_object.write(json.dumps(info, indent=2))"
      ]
    },
    {
      "cell_type": "code",
      "execution_count": 41,
      "metadata": {
        "id": "HbHKJjaWaMwx",
        "colab": {
          "base_uri": "https://localhost:8080/"
        },
        "outputId": "6998e56c-b8e3-4e73-89c7-020470a14ac1"
      },
      "outputs": [
        {
          "output_type": "execute_result",
          "data": {
            "text/plain": [
              "<All keys matched successfully>"
            ]
          },
          "metadata": {},
          "execution_count": 41
        }
      ],
      "source": [
        "model.load_state_dict(torch.load('best_language_model_state_dict.pth'))"
      ]
    },
    {
      "cell_type": "code",
      "source": [
        "tokenizer = yttm.BPE(model=model_path) "
      ],
      "metadata": {
        "id": "fdczOgUVP0w4"
      },
      "execution_count": 42,
      "outputs": []
    },
    {
      "cell_type": "markdown",
      "source": [
        "# Generate Answers"
      ],
      "metadata": {
        "id": "ZZ6j4FG7kjJn"
      }
    },
    {
      "cell_type": "markdown",
      "source": [
        "Генерация ответа методом greedy search:"
      ],
      "metadata": {
        "id": "SDTDablRiosA"
      }
    },
    {
      "cell_type": "code",
      "source": [
        "def generate(model, question, bos_index=2, eos_index=3, max_sequence=25):\n",
        "    \"\"\"Greedy Search sampling\"\"\"\n",
        "    \n",
        "    # токенизируем вопрос\n",
        "    question_tokenized = tokenizer.encode(question, bos=False, eos=False)    \n",
        "    question_tokenized = [bos_index] + question_tokenized + [eos_index]\n",
        "    question_tokenized = torch.tensor(question_tokenized).long().to(device)\n",
        "\n",
        "    # в качестве начальной последовательности для декодера подаем токен BOS\n",
        "    decoder_sequence =  torch.tensor([bos_index]).long().to(device)\n",
        "    \n",
        "    model.eval()\n",
        "\n",
        "    with torch.no_grad():\n",
        "      \n",
        "      # получаем последнее скрытое состояние из энкодера\n",
        "      _, memory = model.encoder(question_tokenized)\n",
        "\n",
        "      pred = []\n",
        "\n",
        "      for timestamp in range(max_sequence):\n",
        "        decoder_hidden = model.decoder(decoder_sequence, memory)\n",
        "\n",
        "        # получаем предсказания для следующего токена\n",
        "        next_token_prediction = model.lm_head(decoder_hidden) \n",
        "        pred.append(next_token_prediction)\n",
        "\n",
        "        next_token_prediction = next_token_prediction[-1]\n",
        "        current_token = next_token_prediction.argmax(dim=0).item()\n",
        "\n",
        "        curr_tensor = torch.tensor([current_token]).long().to(device)\n",
        "        decoder_sequence = torch.cat((decoder_sequence, curr_tensor),dim=-1)\n",
        "\n",
        "        # останавливаем генерировать текст, когда встретили токен конца предложения\n",
        "        if current_token == eos_index:\n",
        "            break\n",
        "\n",
        "    answer = tokenizer.decode(decoder_sequence.tolist())\n",
        "    answer = [re.sub('<BOS>', '', _) for _ in answer][0].replace('<EOS>', '')\n",
        "\n",
        "    return(answer)"
      ],
      "metadata": {
        "id": "vji8XnM-1oce"
      },
      "execution_count": 43,
      "outputs": []
    },
    {
      "cell_type": "code",
      "source": [
        "questions = [\n",
        "    'сколько стоит книга?',\n",
        "    'какое самое вкусное блюдо в мире?',\n",
        "    'какой самый лучший город для комфортной жизни?',\n",
        "    'почему нет снега?',\n",
        "    'как научиться играть на гитаре?',\n",
        "    'за сколько дней можно написать книгу с нуля?',\n",
        "    'как дела?'\n",
        "]"
      ],
      "metadata": {
        "id": "Zpkv6sM3DTQS"
      },
      "execution_count": 74,
      "outputs": []
    },
    {
      "cell_type": "markdown",
      "source": [
        "При обучении модели на большем объеме данных (2 млн. пар), ответы получались более качественными и разнообразными. Примеры ответов для модели, обученной на ~1 млн. примеров:"
      ],
      "metadata": {
        "id": "GEFrhDQssqcj"
      }
    },
    {
      "cell_type": "code",
      "source": [
        "for q in questions:\n",
        "  print(f'— {q}\\n— {generate(model, q)}\\n')"
      ],
      "metadata": {
        "colab": {
          "base_uri": "https://localhost:8080/"
        },
        "id": "tOmom_RmXn_X",
        "outputId": "a00fed8a-00c1-4e28-bb07-3fc4d299b291"
      },
      "execution_count": 75,
      "outputs": [
        {
          "output_type": "stream",
          "name": "stdout",
          "text": [
            "— сколько стоит книга?\n",
            "—  от 2000 руб.\n",
            "\n",
            "— какое самое вкусное блюдо в мире?\n",
            "—  с мясом\n",
            "\n",
            "— какой самый лучший город для комфортной жизни?\n",
            "—  в москве - в москве\n",
            "\n",
            "— почему нет снега?\n",
            "—  потому что это не лечится.\n",
            "\n",
            "— как научиться играть на гитаре?\n",
            "—  в аптеке\n",
            "\n",
            "— за сколько дней можно написать книгу с нуля?\n",
            "—  за 10 лет\n",
            "\n",
            "— как дела?\n",
            "—  не знаю\n",
            "\n"
          ]
        }
      ]
    }
  ],
  "metadata": {
    "accelerator": "GPU",
    "colab": {
      "provenance": []
    },
    "gpuClass": "standard",
    "kernelspec": {
      "display_name": "Python 3",
      "name": "python3"
    },
    "language_info": {
      "name": "python"
    },
    "widgets": {
      "application/vnd.jupyter.widget-state+json": {
        "568f229ead1a4979b502f391a38390c4": {
          "model_module": "@jupyter-widgets/controls",
          "model_name": "HBoxModel",
          "model_module_version": "1.5.0",
          "state": {
            "_dom_classes": [],
            "_model_module": "@jupyter-widgets/controls",
            "_model_module_version": "1.5.0",
            "_model_name": "HBoxModel",
            "_view_count": null,
            "_view_module": "@jupyter-widgets/controls",
            "_view_module_version": "1.5.0",
            "_view_name": "HBoxView",
            "box_style": "",
            "children": [
              "IPY_MODEL_8c49d4761d3744cfb9a6c7ffd090d796",
              "IPY_MODEL_25a0db9447764e039bb61b2d0eb1a176",
              "IPY_MODEL_1c272569f3d2465ead8b5887f0163530"
            ],
            "layout": "IPY_MODEL_dd163921a8e44e0388db71a9cdec6f71"
          }
        },
        "8c49d4761d3744cfb9a6c7ffd090d796": {
          "model_module": "@jupyter-widgets/controls",
          "model_name": "HTMLModel",
          "model_module_version": "1.5.0",
          "state": {
            "_dom_classes": [],
            "_model_module": "@jupyter-widgets/controls",
            "_model_module_version": "1.5.0",
            "_model_name": "HTMLModel",
            "_view_count": null,
            "_view_module": "@jupyter-widgets/controls",
            "_view_module_version": "1.5.0",
            "_view_name": "HTMLView",
            "description": "",
            "description_tooltip": null,
            "layout": "IPY_MODEL_d21e8d89f69346df886a01964e835394",
            "placeholder": "​",
            "style": "IPY_MODEL_a653ee4e71d14b06b744cbb1e5d86fd7",
            "value": "100%"
          }
        },
        "25a0db9447764e039bb61b2d0eb1a176": {
          "model_module": "@jupyter-widgets/controls",
          "model_name": "FloatProgressModel",
          "model_module_version": "1.5.0",
          "state": {
            "_dom_classes": [],
            "_model_module": "@jupyter-widgets/controls",
            "_model_module_version": "1.5.0",
            "_model_name": "FloatProgressModel",
            "_view_count": null,
            "_view_module": "@jupyter-widgets/controls",
            "_view_module_version": "1.5.0",
            "_view_name": "ProgressView",
            "bar_style": "success",
            "description": "",
            "description_tooltip": null,
            "layout": "IPY_MODEL_0e027855565e4707a67c54785a1433fc",
            "max": 3907,
            "min": 0,
            "orientation": "horizontal",
            "style": "IPY_MODEL_cd4baaf758214fbe8f619f573501dcd5",
            "value": 3907
          }
        },
        "1c272569f3d2465ead8b5887f0163530": {
          "model_module": "@jupyter-widgets/controls",
          "model_name": "HTMLModel",
          "model_module_version": "1.5.0",
          "state": {
            "_dom_classes": [],
            "_model_module": "@jupyter-widgets/controls",
            "_model_module_version": "1.5.0",
            "_model_name": "HTMLModel",
            "_view_count": null,
            "_view_module": "@jupyter-widgets/controls",
            "_view_module_version": "1.5.0",
            "_view_name": "HTMLView",
            "description": "",
            "description_tooltip": null,
            "layout": "IPY_MODEL_c0a3d2ca99594b058ea840e5ebe99f8c",
            "placeholder": "​",
            "style": "IPY_MODEL_7101916097d84a90a5ab56d8e0b9a8cf",
            "value": " 3907/3907 [00:09&lt;00:00, 398.42it/s]"
          }
        },
        "dd163921a8e44e0388db71a9cdec6f71": {
          "model_module": "@jupyter-widgets/base",
          "model_name": "LayoutModel",
          "model_module_version": "1.2.0",
          "state": {
            "_model_module": "@jupyter-widgets/base",
            "_model_module_version": "1.2.0",
            "_model_name": "LayoutModel",
            "_view_count": null,
            "_view_module": "@jupyter-widgets/base",
            "_view_module_version": "1.2.0",
            "_view_name": "LayoutView",
            "align_content": null,
            "align_items": null,
            "align_self": null,
            "border": null,
            "bottom": null,
            "display": null,
            "flex": null,
            "flex_flow": null,
            "grid_area": null,
            "grid_auto_columns": null,
            "grid_auto_flow": null,
            "grid_auto_rows": null,
            "grid_column": null,
            "grid_gap": null,
            "grid_row": null,
            "grid_template_areas": null,
            "grid_template_columns": null,
            "grid_template_rows": null,
            "height": null,
            "justify_content": null,
            "justify_items": null,
            "left": null,
            "margin": null,
            "max_height": null,
            "max_width": null,
            "min_height": null,
            "min_width": null,
            "object_fit": null,
            "object_position": null,
            "order": null,
            "overflow": null,
            "overflow_x": null,
            "overflow_y": null,
            "padding": null,
            "right": null,
            "top": null,
            "visibility": null,
            "width": null
          }
        },
        "d21e8d89f69346df886a01964e835394": {
          "model_module": "@jupyter-widgets/base",
          "model_name": "LayoutModel",
          "model_module_version": "1.2.0",
          "state": {
            "_model_module": "@jupyter-widgets/base",
            "_model_module_version": "1.2.0",
            "_model_name": "LayoutModel",
            "_view_count": null,
            "_view_module": "@jupyter-widgets/base",
            "_view_module_version": "1.2.0",
            "_view_name": "LayoutView",
            "align_content": null,
            "align_items": null,
            "align_self": null,
            "border": null,
            "bottom": null,
            "display": null,
            "flex": null,
            "flex_flow": null,
            "grid_area": null,
            "grid_auto_columns": null,
            "grid_auto_flow": null,
            "grid_auto_rows": null,
            "grid_column": null,
            "grid_gap": null,
            "grid_row": null,
            "grid_template_areas": null,
            "grid_template_columns": null,
            "grid_template_rows": null,
            "height": null,
            "justify_content": null,
            "justify_items": null,
            "left": null,
            "margin": null,
            "max_height": null,
            "max_width": null,
            "min_height": null,
            "min_width": null,
            "object_fit": null,
            "object_position": null,
            "order": null,
            "overflow": null,
            "overflow_x": null,
            "overflow_y": null,
            "padding": null,
            "right": null,
            "top": null,
            "visibility": null,
            "width": null
          }
        },
        "a653ee4e71d14b06b744cbb1e5d86fd7": {
          "model_module": "@jupyter-widgets/controls",
          "model_name": "DescriptionStyleModel",
          "model_module_version": "1.5.0",
          "state": {
            "_model_module": "@jupyter-widgets/controls",
            "_model_module_version": "1.5.0",
            "_model_name": "DescriptionStyleModel",
            "_view_count": null,
            "_view_module": "@jupyter-widgets/base",
            "_view_module_version": "1.2.0",
            "_view_name": "StyleView",
            "description_width": ""
          }
        },
        "0e027855565e4707a67c54785a1433fc": {
          "model_module": "@jupyter-widgets/base",
          "model_name": "LayoutModel",
          "model_module_version": "1.2.0",
          "state": {
            "_model_module": "@jupyter-widgets/base",
            "_model_module_version": "1.2.0",
            "_model_name": "LayoutModel",
            "_view_count": null,
            "_view_module": "@jupyter-widgets/base",
            "_view_module_version": "1.2.0",
            "_view_name": "LayoutView",
            "align_content": null,
            "align_items": null,
            "align_self": null,
            "border": null,
            "bottom": null,
            "display": null,
            "flex": null,
            "flex_flow": null,
            "grid_area": null,
            "grid_auto_columns": null,
            "grid_auto_flow": null,
            "grid_auto_rows": null,
            "grid_column": null,
            "grid_gap": null,
            "grid_row": null,
            "grid_template_areas": null,
            "grid_template_columns": null,
            "grid_template_rows": null,
            "height": null,
            "justify_content": null,
            "justify_items": null,
            "left": null,
            "margin": null,
            "max_height": null,
            "max_width": null,
            "min_height": null,
            "min_width": null,
            "object_fit": null,
            "object_position": null,
            "order": null,
            "overflow": null,
            "overflow_x": null,
            "overflow_y": null,
            "padding": null,
            "right": null,
            "top": null,
            "visibility": null,
            "width": null
          }
        },
        "cd4baaf758214fbe8f619f573501dcd5": {
          "model_module": "@jupyter-widgets/controls",
          "model_name": "ProgressStyleModel",
          "model_module_version": "1.5.0",
          "state": {
            "_model_module": "@jupyter-widgets/controls",
            "_model_module_version": "1.5.0",
            "_model_name": "ProgressStyleModel",
            "_view_count": null,
            "_view_module": "@jupyter-widgets/base",
            "_view_module_version": "1.2.0",
            "_view_name": "StyleView",
            "bar_color": null,
            "description_width": ""
          }
        },
        "c0a3d2ca99594b058ea840e5ebe99f8c": {
          "model_module": "@jupyter-widgets/base",
          "model_name": "LayoutModel",
          "model_module_version": "1.2.0",
          "state": {
            "_model_module": "@jupyter-widgets/base",
            "_model_module_version": "1.2.0",
            "_model_name": "LayoutModel",
            "_view_count": null,
            "_view_module": "@jupyter-widgets/base",
            "_view_module_version": "1.2.0",
            "_view_name": "LayoutView",
            "align_content": null,
            "align_items": null,
            "align_self": null,
            "border": null,
            "bottom": null,
            "display": null,
            "flex": null,
            "flex_flow": null,
            "grid_area": null,
            "grid_auto_columns": null,
            "grid_auto_flow": null,
            "grid_auto_rows": null,
            "grid_column": null,
            "grid_gap": null,
            "grid_row": null,
            "grid_template_areas": null,
            "grid_template_columns": null,
            "grid_template_rows": null,
            "height": null,
            "justify_content": null,
            "justify_items": null,
            "left": null,
            "margin": null,
            "max_height": null,
            "max_width": null,
            "min_height": null,
            "min_width": null,
            "object_fit": null,
            "object_position": null,
            "order": null,
            "overflow": null,
            "overflow_x": null,
            "overflow_y": null,
            "padding": null,
            "right": null,
            "top": null,
            "visibility": null,
            "width": null
          }
        },
        "7101916097d84a90a5ab56d8e0b9a8cf": {
          "model_module": "@jupyter-widgets/controls",
          "model_name": "DescriptionStyleModel",
          "model_module_version": "1.5.0",
          "state": {
            "_model_module": "@jupyter-widgets/controls",
            "_model_module_version": "1.5.0",
            "_model_name": "DescriptionStyleModel",
            "_view_count": null,
            "_view_module": "@jupyter-widgets/base",
            "_view_module_version": "1.2.0",
            "_view_name": "StyleView",
            "description_width": ""
          }
        },
        "d5332b80add942cd9773d2d65383335c": {
          "model_module": "@jupyter-widgets/controls",
          "model_name": "HBoxModel",
          "model_module_version": "1.5.0",
          "state": {
            "_dom_classes": [],
            "_model_module": "@jupyter-widgets/controls",
            "_model_module_version": "1.5.0",
            "_model_name": "HBoxModel",
            "_view_count": null,
            "_view_module": "@jupyter-widgets/controls",
            "_view_module_version": "1.5.0",
            "_view_name": "HBoxView",
            "box_style": "",
            "children": [
              "IPY_MODEL_6ec1d9995c1a4e5198e7c101a32d28aa",
              "IPY_MODEL_c4296b27d3e94cce96f6fd103a442e65",
              "IPY_MODEL_49ab6e76209046639d317f09501d799d"
            ],
            "layout": "IPY_MODEL_b1ea29711a4945cd94bd970195813ea1"
          }
        },
        "6ec1d9995c1a4e5198e7c101a32d28aa": {
          "model_module": "@jupyter-widgets/controls",
          "model_name": "HTMLModel",
          "model_module_version": "1.5.0",
          "state": {
            "_dom_classes": [],
            "_model_module": "@jupyter-widgets/controls",
            "_model_module_version": "1.5.0",
            "_model_name": "HTMLModel",
            "_view_count": null,
            "_view_module": "@jupyter-widgets/controls",
            "_view_module_version": "1.5.0",
            "_view_name": "HTMLView",
            "description": "",
            "description_tooltip": null,
            "layout": "IPY_MODEL_525f7482fe2a42b9979ce90efe7ac48a",
            "placeholder": "​",
            "style": "IPY_MODEL_b9bd3171f030490d89051515d409e17e",
            "value": "100%"
          }
        },
        "c4296b27d3e94cce96f6fd103a442e65": {
          "model_module": "@jupyter-widgets/controls",
          "model_name": "FloatProgressModel",
          "model_module_version": "1.5.0",
          "state": {
            "_dom_classes": [],
            "_model_module": "@jupyter-widgets/controls",
            "_model_module_version": "1.5.0",
            "_model_name": "FloatProgressModel",
            "_view_count": null,
            "_view_module": "@jupyter-widgets/controls",
            "_view_module_version": "1.5.0",
            "_view_name": "ProgressView",
            "bar_style": "success",
            "description": "",
            "description_tooltip": null,
            "layout": "IPY_MODEL_cf431f1173b948d28ee525cc652a6b03",
            "max": 3907,
            "min": 0,
            "orientation": "horizontal",
            "style": "IPY_MODEL_e164bdb3e01547e48e307804b6ef48a5",
            "value": 3907
          }
        },
        "49ab6e76209046639d317f09501d799d": {
          "model_module": "@jupyter-widgets/controls",
          "model_name": "HTMLModel",
          "model_module_version": "1.5.0",
          "state": {
            "_dom_classes": [],
            "_model_module": "@jupyter-widgets/controls",
            "_model_module_version": "1.5.0",
            "_model_name": "HTMLModel",
            "_view_count": null,
            "_view_module": "@jupyter-widgets/controls",
            "_view_module_version": "1.5.0",
            "_view_name": "HTMLView",
            "description": "",
            "description_tooltip": null,
            "layout": "IPY_MODEL_eb589045069247399b237904bb56d235",
            "placeholder": "​",
            "style": "IPY_MODEL_f4317aaea1ee40a698dd3bba593163c8",
            "value": " 3907/3907 [00:08&lt;00:00, 357.84it/s]"
          }
        },
        "b1ea29711a4945cd94bd970195813ea1": {
          "model_module": "@jupyter-widgets/base",
          "model_name": "LayoutModel",
          "model_module_version": "1.2.0",
          "state": {
            "_model_module": "@jupyter-widgets/base",
            "_model_module_version": "1.2.0",
            "_model_name": "LayoutModel",
            "_view_count": null,
            "_view_module": "@jupyter-widgets/base",
            "_view_module_version": "1.2.0",
            "_view_name": "LayoutView",
            "align_content": null,
            "align_items": null,
            "align_self": null,
            "border": null,
            "bottom": null,
            "display": null,
            "flex": null,
            "flex_flow": null,
            "grid_area": null,
            "grid_auto_columns": null,
            "grid_auto_flow": null,
            "grid_auto_rows": null,
            "grid_column": null,
            "grid_gap": null,
            "grid_row": null,
            "grid_template_areas": null,
            "grid_template_columns": null,
            "grid_template_rows": null,
            "height": null,
            "justify_content": null,
            "justify_items": null,
            "left": null,
            "margin": null,
            "max_height": null,
            "max_width": null,
            "min_height": null,
            "min_width": null,
            "object_fit": null,
            "object_position": null,
            "order": null,
            "overflow": null,
            "overflow_x": null,
            "overflow_y": null,
            "padding": null,
            "right": null,
            "top": null,
            "visibility": null,
            "width": null
          }
        },
        "525f7482fe2a42b9979ce90efe7ac48a": {
          "model_module": "@jupyter-widgets/base",
          "model_name": "LayoutModel",
          "model_module_version": "1.2.0",
          "state": {
            "_model_module": "@jupyter-widgets/base",
            "_model_module_version": "1.2.0",
            "_model_name": "LayoutModel",
            "_view_count": null,
            "_view_module": "@jupyter-widgets/base",
            "_view_module_version": "1.2.0",
            "_view_name": "LayoutView",
            "align_content": null,
            "align_items": null,
            "align_self": null,
            "border": null,
            "bottom": null,
            "display": null,
            "flex": null,
            "flex_flow": null,
            "grid_area": null,
            "grid_auto_columns": null,
            "grid_auto_flow": null,
            "grid_auto_rows": null,
            "grid_column": null,
            "grid_gap": null,
            "grid_row": null,
            "grid_template_areas": null,
            "grid_template_columns": null,
            "grid_template_rows": null,
            "height": null,
            "justify_content": null,
            "justify_items": null,
            "left": null,
            "margin": null,
            "max_height": null,
            "max_width": null,
            "min_height": null,
            "min_width": null,
            "object_fit": null,
            "object_position": null,
            "order": null,
            "overflow": null,
            "overflow_x": null,
            "overflow_y": null,
            "padding": null,
            "right": null,
            "top": null,
            "visibility": null,
            "width": null
          }
        },
        "b9bd3171f030490d89051515d409e17e": {
          "model_module": "@jupyter-widgets/controls",
          "model_name": "DescriptionStyleModel",
          "model_module_version": "1.5.0",
          "state": {
            "_model_module": "@jupyter-widgets/controls",
            "_model_module_version": "1.5.0",
            "_model_name": "DescriptionStyleModel",
            "_view_count": null,
            "_view_module": "@jupyter-widgets/base",
            "_view_module_version": "1.2.0",
            "_view_name": "StyleView",
            "description_width": ""
          }
        },
        "cf431f1173b948d28ee525cc652a6b03": {
          "model_module": "@jupyter-widgets/base",
          "model_name": "LayoutModel",
          "model_module_version": "1.2.0",
          "state": {
            "_model_module": "@jupyter-widgets/base",
            "_model_module_version": "1.2.0",
            "_model_name": "LayoutModel",
            "_view_count": null,
            "_view_module": "@jupyter-widgets/base",
            "_view_module_version": "1.2.0",
            "_view_name": "LayoutView",
            "align_content": null,
            "align_items": null,
            "align_self": null,
            "border": null,
            "bottom": null,
            "display": null,
            "flex": null,
            "flex_flow": null,
            "grid_area": null,
            "grid_auto_columns": null,
            "grid_auto_flow": null,
            "grid_auto_rows": null,
            "grid_column": null,
            "grid_gap": null,
            "grid_row": null,
            "grid_template_areas": null,
            "grid_template_columns": null,
            "grid_template_rows": null,
            "height": null,
            "justify_content": null,
            "justify_items": null,
            "left": null,
            "margin": null,
            "max_height": null,
            "max_width": null,
            "min_height": null,
            "min_width": null,
            "object_fit": null,
            "object_position": null,
            "order": null,
            "overflow": null,
            "overflow_x": null,
            "overflow_y": null,
            "padding": null,
            "right": null,
            "top": null,
            "visibility": null,
            "width": null
          }
        },
        "e164bdb3e01547e48e307804b6ef48a5": {
          "model_module": "@jupyter-widgets/controls",
          "model_name": "ProgressStyleModel",
          "model_module_version": "1.5.0",
          "state": {
            "_model_module": "@jupyter-widgets/controls",
            "_model_module_version": "1.5.0",
            "_model_name": "ProgressStyleModel",
            "_view_count": null,
            "_view_module": "@jupyter-widgets/base",
            "_view_module_version": "1.2.0",
            "_view_name": "StyleView",
            "bar_color": null,
            "description_width": ""
          }
        },
        "eb589045069247399b237904bb56d235": {
          "model_module": "@jupyter-widgets/base",
          "model_name": "LayoutModel",
          "model_module_version": "1.2.0",
          "state": {
            "_model_module": "@jupyter-widgets/base",
            "_model_module_version": "1.2.0",
            "_model_name": "LayoutModel",
            "_view_count": null,
            "_view_module": "@jupyter-widgets/base",
            "_view_module_version": "1.2.0",
            "_view_name": "LayoutView",
            "align_content": null,
            "align_items": null,
            "align_self": null,
            "border": null,
            "bottom": null,
            "display": null,
            "flex": null,
            "flex_flow": null,
            "grid_area": null,
            "grid_auto_columns": null,
            "grid_auto_flow": null,
            "grid_auto_rows": null,
            "grid_column": null,
            "grid_gap": null,
            "grid_row": null,
            "grid_template_areas": null,
            "grid_template_columns": null,
            "grid_template_rows": null,
            "height": null,
            "justify_content": null,
            "justify_items": null,
            "left": null,
            "margin": null,
            "max_height": null,
            "max_width": null,
            "min_height": null,
            "min_width": null,
            "object_fit": null,
            "object_position": null,
            "order": null,
            "overflow": null,
            "overflow_x": null,
            "overflow_y": null,
            "padding": null,
            "right": null,
            "top": null,
            "visibility": null,
            "width": null
          }
        },
        "f4317aaea1ee40a698dd3bba593163c8": {
          "model_module": "@jupyter-widgets/controls",
          "model_name": "DescriptionStyleModel",
          "model_module_version": "1.5.0",
          "state": {
            "_model_module": "@jupyter-widgets/controls",
            "_model_module_version": "1.5.0",
            "_model_name": "DescriptionStyleModel",
            "_view_count": null,
            "_view_module": "@jupyter-widgets/base",
            "_view_module_version": "1.2.0",
            "_view_name": "StyleView",
            "description_width": ""
          }
        },
        "7e04970f190f41ba9c54052a602a8949": {
          "model_module": "@jupyter-widgets/controls",
          "model_name": "HBoxModel",
          "model_module_version": "1.5.0",
          "state": {
            "_dom_classes": [],
            "_model_module": "@jupyter-widgets/controls",
            "_model_module_version": "1.5.0",
            "_model_name": "HBoxModel",
            "_view_count": null,
            "_view_module": "@jupyter-widgets/controls",
            "_view_module_version": "1.5.0",
            "_view_name": "HBoxView",
            "box_style": "",
            "children": [
              "IPY_MODEL_cf9c18b429f5482082520994e7213e20",
              "IPY_MODEL_357757c26947417eb8bca87bf537960c",
              "IPY_MODEL_e57c99e0da1246fda89a1ab69a92a0ae"
            ],
            "layout": "IPY_MODEL_5282b2ffeea44574897119af323e5dfb"
          }
        },
        "cf9c18b429f5482082520994e7213e20": {
          "model_module": "@jupyter-widgets/controls",
          "model_name": "HTMLModel",
          "model_module_version": "1.5.0",
          "state": {
            "_dom_classes": [],
            "_model_module": "@jupyter-widgets/controls",
            "_model_module_version": "1.5.0",
            "_model_name": "HTMLModel",
            "_view_count": null,
            "_view_module": "@jupyter-widgets/controls",
            "_view_module_version": "1.5.0",
            "_view_name": "HTMLView",
            "description": "",
            "description_tooltip": null,
            "layout": "IPY_MODEL_4c84dabbf20941fe86d14c5e91368206",
            "placeholder": "​",
            "style": "IPY_MODEL_4f2afd75715e4f278c6ef6ef4e8d0c1b",
            "value": "Testing: 100%"
          }
        },
        "357757c26947417eb8bca87bf537960c": {
          "model_module": "@jupyter-widgets/controls",
          "model_name": "FloatProgressModel",
          "model_module_version": "1.5.0",
          "state": {
            "_dom_classes": [],
            "_model_module": "@jupyter-widgets/controls",
            "_model_module_version": "1.5.0",
            "_model_name": "FloatProgressModel",
            "_view_count": null,
            "_view_module": "@jupyter-widgets/controls",
            "_view_module_version": "1.5.0",
            "_view_name": "ProgressView",
            "bar_style": "success",
            "description": "",
            "description_tooltip": null,
            "layout": "IPY_MODEL_2fcf9697b1324277a31d5c7bb70a3b38",
            "max": 195,
            "min": 0,
            "orientation": "horizontal",
            "style": "IPY_MODEL_f19631d5cc744619827980c3c19e4414",
            "value": 195
          }
        },
        "e57c99e0da1246fda89a1ab69a92a0ae": {
          "model_module": "@jupyter-widgets/controls",
          "model_name": "HTMLModel",
          "model_module_version": "1.5.0",
          "state": {
            "_dom_classes": [],
            "_model_module": "@jupyter-widgets/controls",
            "_model_module_version": "1.5.0",
            "_model_name": "HTMLModel",
            "_view_count": null,
            "_view_module": "@jupyter-widgets/controls",
            "_view_module_version": "1.5.0",
            "_view_name": "HTMLView",
            "description": "",
            "description_tooltip": null,
            "layout": "IPY_MODEL_e4fa73fb215d4e6898aef273ce0901f8",
            "placeholder": "​",
            "style": "IPY_MODEL_abf509382a3e42489222f14e9fd82175",
            "value": " 195/195 [00:01&lt;00:00, 154.37it/s]"
          }
        },
        "5282b2ffeea44574897119af323e5dfb": {
          "model_module": "@jupyter-widgets/base",
          "model_name": "LayoutModel",
          "model_module_version": "1.2.0",
          "state": {
            "_model_module": "@jupyter-widgets/base",
            "_model_module_version": "1.2.0",
            "_model_name": "LayoutModel",
            "_view_count": null,
            "_view_module": "@jupyter-widgets/base",
            "_view_module_version": "1.2.0",
            "_view_name": "LayoutView",
            "align_content": null,
            "align_items": null,
            "align_self": null,
            "border": null,
            "bottom": null,
            "display": null,
            "flex": null,
            "flex_flow": null,
            "grid_area": null,
            "grid_auto_columns": null,
            "grid_auto_flow": null,
            "grid_auto_rows": null,
            "grid_column": null,
            "grid_gap": null,
            "grid_row": null,
            "grid_template_areas": null,
            "grid_template_columns": null,
            "grid_template_rows": null,
            "height": null,
            "justify_content": null,
            "justify_items": null,
            "left": null,
            "margin": null,
            "max_height": null,
            "max_width": null,
            "min_height": null,
            "min_width": null,
            "object_fit": null,
            "object_position": null,
            "order": null,
            "overflow": null,
            "overflow_x": null,
            "overflow_y": null,
            "padding": null,
            "right": null,
            "top": null,
            "visibility": null,
            "width": null
          }
        },
        "4c84dabbf20941fe86d14c5e91368206": {
          "model_module": "@jupyter-widgets/base",
          "model_name": "LayoutModel",
          "model_module_version": "1.2.0",
          "state": {
            "_model_module": "@jupyter-widgets/base",
            "_model_module_version": "1.2.0",
            "_model_name": "LayoutModel",
            "_view_count": null,
            "_view_module": "@jupyter-widgets/base",
            "_view_module_version": "1.2.0",
            "_view_name": "LayoutView",
            "align_content": null,
            "align_items": null,
            "align_self": null,
            "border": null,
            "bottom": null,
            "display": null,
            "flex": null,
            "flex_flow": null,
            "grid_area": null,
            "grid_auto_columns": null,
            "grid_auto_flow": null,
            "grid_auto_rows": null,
            "grid_column": null,
            "grid_gap": null,
            "grid_row": null,
            "grid_template_areas": null,
            "grid_template_columns": null,
            "grid_template_rows": null,
            "height": null,
            "justify_content": null,
            "justify_items": null,
            "left": null,
            "margin": null,
            "max_height": null,
            "max_width": null,
            "min_height": null,
            "min_width": null,
            "object_fit": null,
            "object_position": null,
            "order": null,
            "overflow": null,
            "overflow_x": null,
            "overflow_y": null,
            "padding": null,
            "right": null,
            "top": null,
            "visibility": null,
            "width": null
          }
        },
        "4f2afd75715e4f278c6ef6ef4e8d0c1b": {
          "model_module": "@jupyter-widgets/controls",
          "model_name": "DescriptionStyleModel",
          "model_module_version": "1.5.0",
          "state": {
            "_model_module": "@jupyter-widgets/controls",
            "_model_module_version": "1.5.0",
            "_model_name": "DescriptionStyleModel",
            "_view_count": null,
            "_view_module": "@jupyter-widgets/base",
            "_view_module_version": "1.2.0",
            "_view_name": "StyleView",
            "description_width": ""
          }
        },
        "2fcf9697b1324277a31d5c7bb70a3b38": {
          "model_module": "@jupyter-widgets/base",
          "model_name": "LayoutModel",
          "model_module_version": "1.2.0",
          "state": {
            "_model_module": "@jupyter-widgets/base",
            "_model_module_version": "1.2.0",
            "_model_name": "LayoutModel",
            "_view_count": null,
            "_view_module": "@jupyter-widgets/base",
            "_view_module_version": "1.2.0",
            "_view_name": "LayoutView",
            "align_content": null,
            "align_items": null,
            "align_self": null,
            "border": null,
            "bottom": null,
            "display": null,
            "flex": null,
            "flex_flow": null,
            "grid_area": null,
            "grid_auto_columns": null,
            "grid_auto_flow": null,
            "grid_auto_rows": null,
            "grid_column": null,
            "grid_gap": null,
            "grid_row": null,
            "grid_template_areas": null,
            "grid_template_columns": null,
            "grid_template_rows": null,
            "height": null,
            "justify_content": null,
            "justify_items": null,
            "left": null,
            "margin": null,
            "max_height": null,
            "max_width": null,
            "min_height": null,
            "min_width": null,
            "object_fit": null,
            "object_position": null,
            "order": null,
            "overflow": null,
            "overflow_x": null,
            "overflow_y": null,
            "padding": null,
            "right": null,
            "top": null,
            "visibility": null,
            "width": null
          }
        },
        "f19631d5cc744619827980c3c19e4414": {
          "model_module": "@jupyter-widgets/controls",
          "model_name": "ProgressStyleModel",
          "model_module_version": "1.5.0",
          "state": {
            "_model_module": "@jupyter-widgets/controls",
            "_model_module_version": "1.5.0",
            "_model_name": "ProgressStyleModel",
            "_view_count": null,
            "_view_module": "@jupyter-widgets/base",
            "_view_module_version": "1.2.0",
            "_view_name": "StyleView",
            "bar_color": null,
            "description_width": ""
          }
        },
        "e4fa73fb215d4e6898aef273ce0901f8": {
          "model_module": "@jupyter-widgets/base",
          "model_name": "LayoutModel",
          "model_module_version": "1.2.0",
          "state": {
            "_model_module": "@jupyter-widgets/base",
            "_model_module_version": "1.2.0",
            "_model_name": "LayoutModel",
            "_view_count": null,
            "_view_module": "@jupyter-widgets/base",
            "_view_module_version": "1.2.0",
            "_view_name": "LayoutView",
            "align_content": null,
            "align_items": null,
            "align_self": null,
            "border": null,
            "bottom": null,
            "display": null,
            "flex": null,
            "flex_flow": null,
            "grid_area": null,
            "grid_auto_columns": null,
            "grid_auto_flow": null,
            "grid_auto_rows": null,
            "grid_column": null,
            "grid_gap": null,
            "grid_row": null,
            "grid_template_areas": null,
            "grid_template_columns": null,
            "grid_template_rows": null,
            "height": null,
            "justify_content": null,
            "justify_items": null,
            "left": null,
            "margin": null,
            "max_height": null,
            "max_width": null,
            "min_height": null,
            "min_width": null,
            "object_fit": null,
            "object_position": null,
            "order": null,
            "overflow": null,
            "overflow_x": null,
            "overflow_y": null,
            "padding": null,
            "right": null,
            "top": null,
            "visibility": null,
            "width": null
          }
        },
        "abf509382a3e42489222f14e9fd82175": {
          "model_module": "@jupyter-widgets/controls",
          "model_name": "DescriptionStyleModel",
          "model_module_version": "1.5.0",
          "state": {
            "_model_module": "@jupyter-widgets/controls",
            "_model_module_version": "1.5.0",
            "_model_name": "DescriptionStyleModel",
            "_view_count": null,
            "_view_module": "@jupyter-widgets/base",
            "_view_module_version": "1.2.0",
            "_view_name": "StyleView",
            "description_width": ""
          }
        },
        "b89eefbf79424123aef410d1801026ea": {
          "model_module": "@jupyter-widgets/controls",
          "model_name": "HBoxModel",
          "model_module_version": "1.5.0",
          "state": {
            "_dom_classes": [],
            "_model_module": "@jupyter-widgets/controls",
            "_model_module_version": "1.5.0",
            "_model_name": "HBoxModel",
            "_view_count": null,
            "_view_module": "@jupyter-widgets/controls",
            "_view_module_version": "1.5.0",
            "_view_name": "HBoxView",
            "box_style": "",
            "children": [
              "IPY_MODEL_abfcc0a3dfd24330b3d45997707165f8",
              "IPY_MODEL_f98da9214c9345089817232b984fd1e2",
              "IPY_MODEL_b54a53e609514716820145379b80ffa7"
            ],
            "layout": "IPY_MODEL_658bbd15fa3f44628685031ecc154af1"
          }
        },
        "abfcc0a3dfd24330b3d45997707165f8": {
          "model_module": "@jupyter-widgets/controls",
          "model_name": "HTMLModel",
          "model_module_version": "1.5.0",
          "state": {
            "_dom_classes": [],
            "_model_module": "@jupyter-widgets/controls",
            "_model_module_version": "1.5.0",
            "_model_name": "HTMLModel",
            "_view_count": null,
            "_view_module": "@jupyter-widgets/controls",
            "_view_module_version": "1.5.0",
            "_view_name": "HTMLView",
            "description": "",
            "description_tooltip": null,
            "layout": "IPY_MODEL_1807a792768a44bc91995767a9278e7c",
            "placeholder": "​",
            "style": "IPY_MODEL_36382a7d02674dca86ac060ceb9d6de2",
            "value": "Train: 100%"
          }
        },
        "f98da9214c9345089817232b984fd1e2": {
          "model_module": "@jupyter-widgets/controls",
          "model_name": "FloatProgressModel",
          "model_module_version": "1.5.0",
          "state": {
            "_dom_classes": [],
            "_model_module": "@jupyter-widgets/controls",
            "_model_module_version": "1.5.0",
            "_model_name": "FloatProgressModel",
            "_view_count": null,
            "_view_module": "@jupyter-widgets/controls",
            "_view_module_version": "1.5.0",
            "_view_name": "ProgressView",
            "bar_style": "success",
            "description": "",
            "description_tooltip": null,
            "layout": "IPY_MODEL_bf296326d46949b29f0592f8c3da1ab5",
            "max": 3712,
            "min": 0,
            "orientation": "horizontal",
            "style": "IPY_MODEL_a038821d4fc547fc8fd63d9a03ca2912",
            "value": 3712
          }
        },
        "b54a53e609514716820145379b80ffa7": {
          "model_module": "@jupyter-widgets/controls",
          "model_name": "HTMLModel",
          "model_module_version": "1.5.0",
          "state": {
            "_dom_classes": [],
            "_model_module": "@jupyter-widgets/controls",
            "_model_module_version": "1.5.0",
            "_model_name": "HTMLModel",
            "_view_count": null,
            "_view_module": "@jupyter-widgets/controls",
            "_view_module_version": "1.5.0",
            "_view_name": "HTMLView",
            "description": "",
            "description_tooltip": null,
            "layout": "IPY_MODEL_71b5ba6219834d708a4fa50eb831dbf0",
            "placeholder": "​",
            "style": "IPY_MODEL_a739399dd7eb4ec6bcd72a56814e09c7",
            "value": " 3712/3712 [20:27&lt;00:00,  3.10it/s, loss=6.23, perplexity=508]"
          }
        },
        "658bbd15fa3f44628685031ecc154af1": {
          "model_module": "@jupyter-widgets/base",
          "model_name": "LayoutModel",
          "model_module_version": "1.2.0",
          "state": {
            "_model_module": "@jupyter-widgets/base",
            "_model_module_version": "1.2.0",
            "_model_name": "LayoutModel",
            "_view_count": null,
            "_view_module": "@jupyter-widgets/base",
            "_view_module_version": "1.2.0",
            "_view_name": "LayoutView",
            "align_content": null,
            "align_items": null,
            "align_self": null,
            "border": null,
            "bottom": null,
            "display": null,
            "flex": null,
            "flex_flow": null,
            "grid_area": null,
            "grid_auto_columns": null,
            "grid_auto_flow": null,
            "grid_auto_rows": null,
            "grid_column": null,
            "grid_gap": null,
            "grid_row": null,
            "grid_template_areas": null,
            "grid_template_columns": null,
            "grid_template_rows": null,
            "height": null,
            "justify_content": null,
            "justify_items": null,
            "left": null,
            "margin": null,
            "max_height": null,
            "max_width": null,
            "min_height": null,
            "min_width": null,
            "object_fit": null,
            "object_position": null,
            "order": null,
            "overflow": null,
            "overflow_x": null,
            "overflow_y": null,
            "padding": null,
            "right": null,
            "top": null,
            "visibility": null,
            "width": null
          }
        },
        "1807a792768a44bc91995767a9278e7c": {
          "model_module": "@jupyter-widgets/base",
          "model_name": "LayoutModel",
          "model_module_version": "1.2.0",
          "state": {
            "_model_module": "@jupyter-widgets/base",
            "_model_module_version": "1.2.0",
            "_model_name": "LayoutModel",
            "_view_count": null,
            "_view_module": "@jupyter-widgets/base",
            "_view_module_version": "1.2.0",
            "_view_name": "LayoutView",
            "align_content": null,
            "align_items": null,
            "align_self": null,
            "border": null,
            "bottom": null,
            "display": null,
            "flex": null,
            "flex_flow": null,
            "grid_area": null,
            "grid_auto_columns": null,
            "grid_auto_flow": null,
            "grid_auto_rows": null,
            "grid_column": null,
            "grid_gap": null,
            "grid_row": null,
            "grid_template_areas": null,
            "grid_template_columns": null,
            "grid_template_rows": null,
            "height": null,
            "justify_content": null,
            "justify_items": null,
            "left": null,
            "margin": null,
            "max_height": null,
            "max_width": null,
            "min_height": null,
            "min_width": null,
            "object_fit": null,
            "object_position": null,
            "order": null,
            "overflow": null,
            "overflow_x": null,
            "overflow_y": null,
            "padding": null,
            "right": null,
            "top": null,
            "visibility": null,
            "width": null
          }
        },
        "36382a7d02674dca86ac060ceb9d6de2": {
          "model_module": "@jupyter-widgets/controls",
          "model_name": "DescriptionStyleModel",
          "model_module_version": "1.5.0",
          "state": {
            "_model_module": "@jupyter-widgets/controls",
            "_model_module_version": "1.5.0",
            "_model_name": "DescriptionStyleModel",
            "_view_count": null,
            "_view_module": "@jupyter-widgets/base",
            "_view_module_version": "1.2.0",
            "_view_name": "StyleView",
            "description_width": ""
          }
        },
        "bf296326d46949b29f0592f8c3da1ab5": {
          "model_module": "@jupyter-widgets/base",
          "model_name": "LayoutModel",
          "model_module_version": "1.2.0",
          "state": {
            "_model_module": "@jupyter-widgets/base",
            "_model_module_version": "1.2.0",
            "_model_name": "LayoutModel",
            "_view_count": null,
            "_view_module": "@jupyter-widgets/base",
            "_view_module_version": "1.2.0",
            "_view_name": "LayoutView",
            "align_content": null,
            "align_items": null,
            "align_self": null,
            "border": null,
            "bottom": null,
            "display": null,
            "flex": null,
            "flex_flow": null,
            "grid_area": null,
            "grid_auto_columns": null,
            "grid_auto_flow": null,
            "grid_auto_rows": null,
            "grid_column": null,
            "grid_gap": null,
            "grid_row": null,
            "grid_template_areas": null,
            "grid_template_columns": null,
            "grid_template_rows": null,
            "height": null,
            "justify_content": null,
            "justify_items": null,
            "left": null,
            "margin": null,
            "max_height": null,
            "max_width": null,
            "min_height": null,
            "min_width": null,
            "object_fit": null,
            "object_position": null,
            "order": null,
            "overflow": null,
            "overflow_x": null,
            "overflow_y": null,
            "padding": null,
            "right": null,
            "top": null,
            "visibility": null,
            "width": null
          }
        },
        "a038821d4fc547fc8fd63d9a03ca2912": {
          "model_module": "@jupyter-widgets/controls",
          "model_name": "ProgressStyleModel",
          "model_module_version": "1.5.0",
          "state": {
            "_model_module": "@jupyter-widgets/controls",
            "_model_module_version": "1.5.0",
            "_model_name": "ProgressStyleModel",
            "_view_count": null,
            "_view_module": "@jupyter-widgets/base",
            "_view_module_version": "1.2.0",
            "_view_name": "StyleView",
            "bar_color": null,
            "description_width": ""
          }
        },
        "71b5ba6219834d708a4fa50eb831dbf0": {
          "model_module": "@jupyter-widgets/base",
          "model_name": "LayoutModel",
          "model_module_version": "1.2.0",
          "state": {
            "_model_module": "@jupyter-widgets/base",
            "_model_module_version": "1.2.0",
            "_model_name": "LayoutModel",
            "_view_count": null,
            "_view_module": "@jupyter-widgets/base",
            "_view_module_version": "1.2.0",
            "_view_name": "LayoutView",
            "align_content": null,
            "align_items": null,
            "align_self": null,
            "border": null,
            "bottom": null,
            "display": null,
            "flex": null,
            "flex_flow": null,
            "grid_area": null,
            "grid_auto_columns": null,
            "grid_auto_flow": null,
            "grid_auto_rows": null,
            "grid_column": null,
            "grid_gap": null,
            "grid_row": null,
            "grid_template_areas": null,
            "grid_template_columns": null,
            "grid_template_rows": null,
            "height": null,
            "justify_content": null,
            "justify_items": null,
            "left": null,
            "margin": null,
            "max_height": null,
            "max_width": null,
            "min_height": null,
            "min_width": null,
            "object_fit": null,
            "object_position": null,
            "order": null,
            "overflow": null,
            "overflow_x": null,
            "overflow_y": null,
            "padding": null,
            "right": null,
            "top": null,
            "visibility": null,
            "width": null
          }
        },
        "a739399dd7eb4ec6bcd72a56814e09c7": {
          "model_module": "@jupyter-widgets/controls",
          "model_name": "DescriptionStyleModel",
          "model_module_version": "1.5.0",
          "state": {
            "_model_module": "@jupyter-widgets/controls",
            "_model_module_version": "1.5.0",
            "_model_name": "DescriptionStyleModel",
            "_view_count": null,
            "_view_module": "@jupyter-widgets/base",
            "_view_module_version": "1.2.0",
            "_view_name": "StyleView",
            "description_width": ""
          }
        },
        "793dd1d2820f488dba338ba523c4837d": {
          "model_module": "@jupyter-widgets/controls",
          "model_name": "HBoxModel",
          "model_module_version": "1.5.0",
          "state": {
            "_dom_classes": [],
            "_model_module": "@jupyter-widgets/controls",
            "_model_module_version": "1.5.0",
            "_model_name": "HBoxModel",
            "_view_count": null,
            "_view_module": "@jupyter-widgets/controls",
            "_view_module_version": "1.5.0",
            "_view_name": "HBoxView",
            "box_style": "",
            "children": [
              "IPY_MODEL_07d78e4e8cff4166aec34b83488eefc1",
              "IPY_MODEL_93e628bb1e1f4407a09793de68f5ce19",
              "IPY_MODEL_713be8a030044cc4b633b9b465f6de6f"
            ],
            "layout": "IPY_MODEL_d2f102673fd64ee78df0685e761b4ab2"
          }
        },
        "07d78e4e8cff4166aec34b83488eefc1": {
          "model_module": "@jupyter-widgets/controls",
          "model_name": "HTMLModel",
          "model_module_version": "1.5.0",
          "state": {
            "_dom_classes": [],
            "_model_module": "@jupyter-widgets/controls",
            "_model_module_version": "1.5.0",
            "_model_name": "HTMLModel",
            "_view_count": null,
            "_view_module": "@jupyter-widgets/controls",
            "_view_module_version": "1.5.0",
            "_view_name": "HTMLView",
            "description": "",
            "description_tooltip": null,
            "layout": "IPY_MODEL_d01e98696c2048bf9c9d125329adf7b2",
            "placeholder": "​",
            "style": "IPY_MODEL_3d32663bac56476688fc3f8a69b3e1fc",
            "value": "Evaluate: 100%"
          }
        },
        "93e628bb1e1f4407a09793de68f5ce19": {
          "model_module": "@jupyter-widgets/controls",
          "model_name": "FloatProgressModel",
          "model_module_version": "1.5.0",
          "state": {
            "_dom_classes": [],
            "_model_module": "@jupyter-widgets/controls",
            "_model_module_version": "1.5.0",
            "_model_name": "FloatProgressModel",
            "_view_count": null,
            "_view_module": "@jupyter-widgets/controls",
            "_view_module_version": "1.5.0",
            "_view_name": "ProgressView",
            "bar_style": "success",
            "description": "",
            "description_tooltip": null,
            "layout": "IPY_MODEL_98afb9180e0144b9adecb98bc15c5d6d",
            "max": 195,
            "min": 0,
            "orientation": "horizontal",
            "style": "IPY_MODEL_99702c02f21e4464862f2e4b08b9f2b3",
            "value": 195
          }
        },
        "713be8a030044cc4b633b9b465f6de6f": {
          "model_module": "@jupyter-widgets/controls",
          "model_name": "HTMLModel",
          "model_module_version": "1.5.0",
          "state": {
            "_dom_classes": [],
            "_model_module": "@jupyter-widgets/controls",
            "_model_module_version": "1.5.0",
            "_model_name": "HTMLModel",
            "_view_count": null,
            "_view_module": "@jupyter-widgets/controls",
            "_view_module_version": "1.5.0",
            "_view_name": "HTMLView",
            "description": "",
            "description_tooltip": null,
            "layout": "IPY_MODEL_8a3959fcb71f4f509c27e23958c212fd",
            "placeholder": "​",
            "style": "IPY_MODEL_5943a04c855d402689a72224d38b2884",
            "value": " 195/195 [00:26&lt;00:00,  7.60it/s, loss=6.06, perplexity=428]"
          }
        },
        "d2f102673fd64ee78df0685e761b4ab2": {
          "model_module": "@jupyter-widgets/base",
          "model_name": "LayoutModel",
          "model_module_version": "1.2.0",
          "state": {
            "_model_module": "@jupyter-widgets/base",
            "_model_module_version": "1.2.0",
            "_model_name": "LayoutModel",
            "_view_count": null,
            "_view_module": "@jupyter-widgets/base",
            "_view_module_version": "1.2.0",
            "_view_name": "LayoutView",
            "align_content": null,
            "align_items": null,
            "align_self": null,
            "border": null,
            "bottom": null,
            "display": null,
            "flex": null,
            "flex_flow": null,
            "grid_area": null,
            "grid_auto_columns": null,
            "grid_auto_flow": null,
            "grid_auto_rows": null,
            "grid_column": null,
            "grid_gap": null,
            "grid_row": null,
            "grid_template_areas": null,
            "grid_template_columns": null,
            "grid_template_rows": null,
            "height": null,
            "justify_content": null,
            "justify_items": null,
            "left": null,
            "margin": null,
            "max_height": null,
            "max_width": null,
            "min_height": null,
            "min_width": null,
            "object_fit": null,
            "object_position": null,
            "order": null,
            "overflow": null,
            "overflow_x": null,
            "overflow_y": null,
            "padding": null,
            "right": null,
            "top": null,
            "visibility": null,
            "width": null
          }
        },
        "d01e98696c2048bf9c9d125329adf7b2": {
          "model_module": "@jupyter-widgets/base",
          "model_name": "LayoutModel",
          "model_module_version": "1.2.0",
          "state": {
            "_model_module": "@jupyter-widgets/base",
            "_model_module_version": "1.2.0",
            "_model_name": "LayoutModel",
            "_view_count": null,
            "_view_module": "@jupyter-widgets/base",
            "_view_module_version": "1.2.0",
            "_view_name": "LayoutView",
            "align_content": null,
            "align_items": null,
            "align_self": null,
            "border": null,
            "bottom": null,
            "display": null,
            "flex": null,
            "flex_flow": null,
            "grid_area": null,
            "grid_auto_columns": null,
            "grid_auto_flow": null,
            "grid_auto_rows": null,
            "grid_column": null,
            "grid_gap": null,
            "grid_row": null,
            "grid_template_areas": null,
            "grid_template_columns": null,
            "grid_template_rows": null,
            "height": null,
            "justify_content": null,
            "justify_items": null,
            "left": null,
            "margin": null,
            "max_height": null,
            "max_width": null,
            "min_height": null,
            "min_width": null,
            "object_fit": null,
            "object_position": null,
            "order": null,
            "overflow": null,
            "overflow_x": null,
            "overflow_y": null,
            "padding": null,
            "right": null,
            "top": null,
            "visibility": null,
            "width": null
          }
        },
        "3d32663bac56476688fc3f8a69b3e1fc": {
          "model_module": "@jupyter-widgets/controls",
          "model_name": "DescriptionStyleModel",
          "model_module_version": "1.5.0",
          "state": {
            "_model_module": "@jupyter-widgets/controls",
            "_model_module_version": "1.5.0",
            "_model_name": "DescriptionStyleModel",
            "_view_count": null,
            "_view_module": "@jupyter-widgets/base",
            "_view_module_version": "1.2.0",
            "_view_name": "StyleView",
            "description_width": ""
          }
        },
        "98afb9180e0144b9adecb98bc15c5d6d": {
          "model_module": "@jupyter-widgets/base",
          "model_name": "LayoutModel",
          "model_module_version": "1.2.0",
          "state": {
            "_model_module": "@jupyter-widgets/base",
            "_model_module_version": "1.2.0",
            "_model_name": "LayoutModel",
            "_view_count": null,
            "_view_module": "@jupyter-widgets/base",
            "_view_module_version": "1.2.0",
            "_view_name": "LayoutView",
            "align_content": null,
            "align_items": null,
            "align_self": null,
            "border": null,
            "bottom": null,
            "display": null,
            "flex": null,
            "flex_flow": null,
            "grid_area": null,
            "grid_auto_columns": null,
            "grid_auto_flow": null,
            "grid_auto_rows": null,
            "grid_column": null,
            "grid_gap": null,
            "grid_row": null,
            "grid_template_areas": null,
            "grid_template_columns": null,
            "grid_template_rows": null,
            "height": null,
            "justify_content": null,
            "justify_items": null,
            "left": null,
            "margin": null,
            "max_height": null,
            "max_width": null,
            "min_height": null,
            "min_width": null,
            "object_fit": null,
            "object_position": null,
            "order": null,
            "overflow": null,
            "overflow_x": null,
            "overflow_y": null,
            "padding": null,
            "right": null,
            "top": null,
            "visibility": null,
            "width": null
          }
        },
        "99702c02f21e4464862f2e4b08b9f2b3": {
          "model_module": "@jupyter-widgets/controls",
          "model_name": "ProgressStyleModel",
          "model_module_version": "1.5.0",
          "state": {
            "_model_module": "@jupyter-widgets/controls",
            "_model_module_version": "1.5.0",
            "_model_name": "ProgressStyleModel",
            "_view_count": null,
            "_view_module": "@jupyter-widgets/base",
            "_view_module_version": "1.2.0",
            "_view_name": "StyleView",
            "bar_color": null,
            "description_width": ""
          }
        },
        "8a3959fcb71f4f509c27e23958c212fd": {
          "model_module": "@jupyter-widgets/base",
          "model_name": "LayoutModel",
          "model_module_version": "1.2.0",
          "state": {
            "_model_module": "@jupyter-widgets/base",
            "_model_module_version": "1.2.0",
            "_model_name": "LayoutModel",
            "_view_count": null,
            "_view_module": "@jupyter-widgets/base",
            "_view_module_version": "1.2.0",
            "_view_name": "LayoutView",
            "align_content": null,
            "align_items": null,
            "align_self": null,
            "border": null,
            "bottom": null,
            "display": null,
            "flex": null,
            "flex_flow": null,
            "grid_area": null,
            "grid_auto_columns": null,
            "grid_auto_flow": null,
            "grid_auto_rows": null,
            "grid_column": null,
            "grid_gap": null,
            "grid_row": null,
            "grid_template_areas": null,
            "grid_template_columns": null,
            "grid_template_rows": null,
            "height": null,
            "justify_content": null,
            "justify_items": null,
            "left": null,
            "margin": null,
            "max_height": null,
            "max_width": null,
            "min_height": null,
            "min_width": null,
            "object_fit": null,
            "object_position": null,
            "order": null,
            "overflow": null,
            "overflow_x": null,
            "overflow_y": null,
            "padding": null,
            "right": null,
            "top": null,
            "visibility": null,
            "width": null
          }
        },
        "5943a04c855d402689a72224d38b2884": {
          "model_module": "@jupyter-widgets/controls",
          "model_name": "DescriptionStyleModel",
          "model_module_version": "1.5.0",
          "state": {
            "_model_module": "@jupyter-widgets/controls",
            "_model_module_version": "1.5.0",
            "_model_name": "DescriptionStyleModel",
            "_view_count": null,
            "_view_module": "@jupyter-widgets/base",
            "_view_module_version": "1.2.0",
            "_view_name": "StyleView",
            "description_width": ""
          }
        },
        "e6c90d98c1014f53bafb1f2e93702f51": {
          "model_module": "@jupyter-widgets/controls",
          "model_name": "HBoxModel",
          "model_module_version": "1.5.0",
          "state": {
            "_dom_classes": [],
            "_model_module": "@jupyter-widgets/controls",
            "_model_module_version": "1.5.0",
            "_model_name": "HBoxModel",
            "_view_count": null,
            "_view_module": "@jupyter-widgets/controls",
            "_view_module_version": "1.5.0",
            "_view_name": "HBoxView",
            "box_style": "",
            "children": [
              "IPY_MODEL_36196783fb0244ef90d9a7150535c227",
              "IPY_MODEL_26b6f41ebbdd408cbb52702e364d7c2e",
              "IPY_MODEL_09418459219c433e82ce9b951b285c58"
            ],
            "layout": "IPY_MODEL_87b2cc31a98b49338015cfee519bc9b5"
          }
        },
        "36196783fb0244ef90d9a7150535c227": {
          "model_module": "@jupyter-widgets/controls",
          "model_name": "HTMLModel",
          "model_module_version": "1.5.0",
          "state": {
            "_dom_classes": [],
            "_model_module": "@jupyter-widgets/controls",
            "_model_module_version": "1.5.0",
            "_model_name": "HTMLModel",
            "_view_count": null,
            "_view_module": "@jupyter-widgets/controls",
            "_view_module_version": "1.5.0",
            "_view_name": "HTMLView",
            "description": "",
            "description_tooltip": null,
            "layout": "IPY_MODEL_8005b24c7e784915adbd1e17a3a26165",
            "placeholder": "​",
            "style": "IPY_MODEL_3cc6d35242fa41ecb5cd0fc477e3ad54",
            "value": "Train: 100%"
          }
        },
        "26b6f41ebbdd408cbb52702e364d7c2e": {
          "model_module": "@jupyter-widgets/controls",
          "model_name": "FloatProgressModel",
          "model_module_version": "1.5.0",
          "state": {
            "_dom_classes": [],
            "_model_module": "@jupyter-widgets/controls",
            "_model_module_version": "1.5.0",
            "_model_name": "FloatProgressModel",
            "_view_count": null,
            "_view_module": "@jupyter-widgets/controls",
            "_view_module_version": "1.5.0",
            "_view_name": "ProgressView",
            "bar_style": "success",
            "description": "",
            "description_tooltip": null,
            "layout": "IPY_MODEL_feefcd00cef140109191400b5f60e290",
            "max": 3712,
            "min": 0,
            "orientation": "horizontal",
            "style": "IPY_MODEL_c9c9e75c31c1437bbe2c5f727a9f10e6",
            "value": 3712
          }
        },
        "09418459219c433e82ce9b951b285c58": {
          "model_module": "@jupyter-widgets/controls",
          "model_name": "HTMLModel",
          "model_module_version": "1.5.0",
          "state": {
            "_dom_classes": [],
            "_model_module": "@jupyter-widgets/controls",
            "_model_module_version": "1.5.0",
            "_model_name": "HTMLModel",
            "_view_count": null,
            "_view_module": "@jupyter-widgets/controls",
            "_view_module_version": "1.5.0",
            "_view_name": "HTMLView",
            "description": "",
            "description_tooltip": null,
            "layout": "IPY_MODEL_2b08d5928860440fb16a9412da96064f",
            "placeholder": "​",
            "style": "IPY_MODEL_9607a8e394854362a301ee3cad142afb",
            "value": " 3712/3712 [22:45&lt;00:00,  2.80it/s, loss=4.73, perplexity=113]"
          }
        },
        "87b2cc31a98b49338015cfee519bc9b5": {
          "model_module": "@jupyter-widgets/base",
          "model_name": "LayoutModel",
          "model_module_version": "1.2.0",
          "state": {
            "_model_module": "@jupyter-widgets/base",
            "_model_module_version": "1.2.0",
            "_model_name": "LayoutModel",
            "_view_count": null,
            "_view_module": "@jupyter-widgets/base",
            "_view_module_version": "1.2.0",
            "_view_name": "LayoutView",
            "align_content": null,
            "align_items": null,
            "align_self": null,
            "border": null,
            "bottom": null,
            "display": null,
            "flex": null,
            "flex_flow": null,
            "grid_area": null,
            "grid_auto_columns": null,
            "grid_auto_flow": null,
            "grid_auto_rows": null,
            "grid_column": null,
            "grid_gap": null,
            "grid_row": null,
            "grid_template_areas": null,
            "grid_template_columns": null,
            "grid_template_rows": null,
            "height": null,
            "justify_content": null,
            "justify_items": null,
            "left": null,
            "margin": null,
            "max_height": null,
            "max_width": null,
            "min_height": null,
            "min_width": null,
            "object_fit": null,
            "object_position": null,
            "order": null,
            "overflow": null,
            "overflow_x": null,
            "overflow_y": null,
            "padding": null,
            "right": null,
            "top": null,
            "visibility": null,
            "width": null
          }
        },
        "8005b24c7e784915adbd1e17a3a26165": {
          "model_module": "@jupyter-widgets/base",
          "model_name": "LayoutModel",
          "model_module_version": "1.2.0",
          "state": {
            "_model_module": "@jupyter-widgets/base",
            "_model_module_version": "1.2.0",
            "_model_name": "LayoutModel",
            "_view_count": null,
            "_view_module": "@jupyter-widgets/base",
            "_view_module_version": "1.2.0",
            "_view_name": "LayoutView",
            "align_content": null,
            "align_items": null,
            "align_self": null,
            "border": null,
            "bottom": null,
            "display": null,
            "flex": null,
            "flex_flow": null,
            "grid_area": null,
            "grid_auto_columns": null,
            "grid_auto_flow": null,
            "grid_auto_rows": null,
            "grid_column": null,
            "grid_gap": null,
            "grid_row": null,
            "grid_template_areas": null,
            "grid_template_columns": null,
            "grid_template_rows": null,
            "height": null,
            "justify_content": null,
            "justify_items": null,
            "left": null,
            "margin": null,
            "max_height": null,
            "max_width": null,
            "min_height": null,
            "min_width": null,
            "object_fit": null,
            "object_position": null,
            "order": null,
            "overflow": null,
            "overflow_x": null,
            "overflow_y": null,
            "padding": null,
            "right": null,
            "top": null,
            "visibility": null,
            "width": null
          }
        },
        "3cc6d35242fa41ecb5cd0fc477e3ad54": {
          "model_module": "@jupyter-widgets/controls",
          "model_name": "DescriptionStyleModel",
          "model_module_version": "1.5.0",
          "state": {
            "_model_module": "@jupyter-widgets/controls",
            "_model_module_version": "1.5.0",
            "_model_name": "DescriptionStyleModel",
            "_view_count": null,
            "_view_module": "@jupyter-widgets/base",
            "_view_module_version": "1.2.0",
            "_view_name": "StyleView",
            "description_width": ""
          }
        },
        "feefcd00cef140109191400b5f60e290": {
          "model_module": "@jupyter-widgets/base",
          "model_name": "LayoutModel",
          "model_module_version": "1.2.0",
          "state": {
            "_model_module": "@jupyter-widgets/base",
            "_model_module_version": "1.2.0",
            "_model_name": "LayoutModel",
            "_view_count": null,
            "_view_module": "@jupyter-widgets/base",
            "_view_module_version": "1.2.0",
            "_view_name": "LayoutView",
            "align_content": null,
            "align_items": null,
            "align_self": null,
            "border": null,
            "bottom": null,
            "display": null,
            "flex": null,
            "flex_flow": null,
            "grid_area": null,
            "grid_auto_columns": null,
            "grid_auto_flow": null,
            "grid_auto_rows": null,
            "grid_column": null,
            "grid_gap": null,
            "grid_row": null,
            "grid_template_areas": null,
            "grid_template_columns": null,
            "grid_template_rows": null,
            "height": null,
            "justify_content": null,
            "justify_items": null,
            "left": null,
            "margin": null,
            "max_height": null,
            "max_width": null,
            "min_height": null,
            "min_width": null,
            "object_fit": null,
            "object_position": null,
            "order": null,
            "overflow": null,
            "overflow_x": null,
            "overflow_y": null,
            "padding": null,
            "right": null,
            "top": null,
            "visibility": null,
            "width": null
          }
        },
        "c9c9e75c31c1437bbe2c5f727a9f10e6": {
          "model_module": "@jupyter-widgets/controls",
          "model_name": "ProgressStyleModel",
          "model_module_version": "1.5.0",
          "state": {
            "_model_module": "@jupyter-widgets/controls",
            "_model_module_version": "1.5.0",
            "_model_name": "ProgressStyleModel",
            "_view_count": null,
            "_view_module": "@jupyter-widgets/base",
            "_view_module_version": "1.2.0",
            "_view_name": "StyleView",
            "bar_color": null,
            "description_width": ""
          }
        },
        "2b08d5928860440fb16a9412da96064f": {
          "model_module": "@jupyter-widgets/base",
          "model_name": "LayoutModel",
          "model_module_version": "1.2.0",
          "state": {
            "_model_module": "@jupyter-widgets/base",
            "_model_module_version": "1.2.0",
            "_model_name": "LayoutModel",
            "_view_count": null,
            "_view_module": "@jupyter-widgets/base",
            "_view_module_version": "1.2.0",
            "_view_name": "LayoutView",
            "align_content": null,
            "align_items": null,
            "align_self": null,
            "border": null,
            "bottom": null,
            "display": null,
            "flex": null,
            "flex_flow": null,
            "grid_area": null,
            "grid_auto_columns": null,
            "grid_auto_flow": null,
            "grid_auto_rows": null,
            "grid_column": null,
            "grid_gap": null,
            "grid_row": null,
            "grid_template_areas": null,
            "grid_template_columns": null,
            "grid_template_rows": null,
            "height": null,
            "justify_content": null,
            "justify_items": null,
            "left": null,
            "margin": null,
            "max_height": null,
            "max_width": null,
            "min_height": null,
            "min_width": null,
            "object_fit": null,
            "object_position": null,
            "order": null,
            "overflow": null,
            "overflow_x": null,
            "overflow_y": null,
            "padding": null,
            "right": null,
            "top": null,
            "visibility": null,
            "width": null
          }
        },
        "9607a8e394854362a301ee3cad142afb": {
          "model_module": "@jupyter-widgets/controls",
          "model_name": "DescriptionStyleModel",
          "model_module_version": "1.5.0",
          "state": {
            "_model_module": "@jupyter-widgets/controls",
            "_model_module_version": "1.5.0",
            "_model_name": "DescriptionStyleModel",
            "_view_count": null,
            "_view_module": "@jupyter-widgets/base",
            "_view_module_version": "1.2.0",
            "_view_name": "StyleView",
            "description_width": ""
          }
        },
        "7fefbd9532d7470ea84902f9c742fb7d": {
          "model_module": "@jupyter-widgets/controls",
          "model_name": "HBoxModel",
          "model_module_version": "1.5.0",
          "state": {
            "_dom_classes": [],
            "_model_module": "@jupyter-widgets/controls",
            "_model_module_version": "1.5.0",
            "_model_name": "HBoxModel",
            "_view_count": null,
            "_view_module": "@jupyter-widgets/controls",
            "_view_module_version": "1.5.0",
            "_view_name": "HBoxView",
            "box_style": "",
            "children": [
              "IPY_MODEL_1c77eb83abcc4965b84e7eb7e71d3270",
              "IPY_MODEL_075febf952ee4a53b4542114b75434db",
              "IPY_MODEL_b188511da7f2490bb6f8ae50c83e8cda"
            ],
            "layout": "IPY_MODEL_8039889797a740f4ab65c34d6766d6d2"
          }
        },
        "1c77eb83abcc4965b84e7eb7e71d3270": {
          "model_module": "@jupyter-widgets/controls",
          "model_name": "HTMLModel",
          "model_module_version": "1.5.0",
          "state": {
            "_dom_classes": [],
            "_model_module": "@jupyter-widgets/controls",
            "_model_module_version": "1.5.0",
            "_model_name": "HTMLModel",
            "_view_count": null,
            "_view_module": "@jupyter-widgets/controls",
            "_view_module_version": "1.5.0",
            "_view_name": "HTMLView",
            "description": "",
            "description_tooltip": null,
            "layout": "IPY_MODEL_4f5eb7cdcdf84541809d410bc63521bd",
            "placeholder": "​",
            "style": "IPY_MODEL_7cce1553d20a437e8325af08a76268f0",
            "value": "Evaluate: 100%"
          }
        },
        "075febf952ee4a53b4542114b75434db": {
          "model_module": "@jupyter-widgets/controls",
          "model_name": "FloatProgressModel",
          "model_module_version": "1.5.0",
          "state": {
            "_dom_classes": [],
            "_model_module": "@jupyter-widgets/controls",
            "_model_module_version": "1.5.0",
            "_model_name": "FloatProgressModel",
            "_view_count": null,
            "_view_module": "@jupyter-widgets/controls",
            "_view_module_version": "1.5.0",
            "_view_name": "ProgressView",
            "bar_style": "success",
            "description": "",
            "description_tooltip": null,
            "layout": "IPY_MODEL_ddcbd2e8e3e94120b3469edb6098c6d4",
            "max": 195,
            "min": 0,
            "orientation": "horizontal",
            "style": "IPY_MODEL_4ae3e5c2cec84f82ad8bed6dc033a392",
            "value": 195
          }
        },
        "b188511da7f2490bb6f8ae50c83e8cda": {
          "model_module": "@jupyter-widgets/controls",
          "model_name": "HTMLModel",
          "model_module_version": "1.5.0",
          "state": {
            "_dom_classes": [],
            "_model_module": "@jupyter-widgets/controls",
            "_model_module_version": "1.5.0",
            "_model_name": "HTMLModel",
            "_view_count": null,
            "_view_module": "@jupyter-widgets/controls",
            "_view_module_version": "1.5.0",
            "_view_name": "HTMLView",
            "description": "",
            "description_tooltip": null,
            "layout": "IPY_MODEL_fa670cc3240c4721a1176e9c2df8b26a",
            "placeholder": "​",
            "style": "IPY_MODEL_2b5911121e274ed6a15de5f43dd5aeae",
            "value": " 195/195 [00:28&lt;00:00,  6.98it/s, loss=4.71, perplexity=111]"
          }
        },
        "8039889797a740f4ab65c34d6766d6d2": {
          "model_module": "@jupyter-widgets/base",
          "model_name": "LayoutModel",
          "model_module_version": "1.2.0",
          "state": {
            "_model_module": "@jupyter-widgets/base",
            "_model_module_version": "1.2.0",
            "_model_name": "LayoutModel",
            "_view_count": null,
            "_view_module": "@jupyter-widgets/base",
            "_view_module_version": "1.2.0",
            "_view_name": "LayoutView",
            "align_content": null,
            "align_items": null,
            "align_self": null,
            "border": null,
            "bottom": null,
            "display": null,
            "flex": null,
            "flex_flow": null,
            "grid_area": null,
            "grid_auto_columns": null,
            "grid_auto_flow": null,
            "grid_auto_rows": null,
            "grid_column": null,
            "grid_gap": null,
            "grid_row": null,
            "grid_template_areas": null,
            "grid_template_columns": null,
            "grid_template_rows": null,
            "height": null,
            "justify_content": null,
            "justify_items": null,
            "left": null,
            "margin": null,
            "max_height": null,
            "max_width": null,
            "min_height": null,
            "min_width": null,
            "object_fit": null,
            "object_position": null,
            "order": null,
            "overflow": null,
            "overflow_x": null,
            "overflow_y": null,
            "padding": null,
            "right": null,
            "top": null,
            "visibility": null,
            "width": null
          }
        },
        "4f5eb7cdcdf84541809d410bc63521bd": {
          "model_module": "@jupyter-widgets/base",
          "model_name": "LayoutModel",
          "model_module_version": "1.2.0",
          "state": {
            "_model_module": "@jupyter-widgets/base",
            "_model_module_version": "1.2.0",
            "_model_name": "LayoutModel",
            "_view_count": null,
            "_view_module": "@jupyter-widgets/base",
            "_view_module_version": "1.2.0",
            "_view_name": "LayoutView",
            "align_content": null,
            "align_items": null,
            "align_self": null,
            "border": null,
            "bottom": null,
            "display": null,
            "flex": null,
            "flex_flow": null,
            "grid_area": null,
            "grid_auto_columns": null,
            "grid_auto_flow": null,
            "grid_auto_rows": null,
            "grid_column": null,
            "grid_gap": null,
            "grid_row": null,
            "grid_template_areas": null,
            "grid_template_columns": null,
            "grid_template_rows": null,
            "height": null,
            "justify_content": null,
            "justify_items": null,
            "left": null,
            "margin": null,
            "max_height": null,
            "max_width": null,
            "min_height": null,
            "min_width": null,
            "object_fit": null,
            "object_position": null,
            "order": null,
            "overflow": null,
            "overflow_x": null,
            "overflow_y": null,
            "padding": null,
            "right": null,
            "top": null,
            "visibility": null,
            "width": null
          }
        },
        "7cce1553d20a437e8325af08a76268f0": {
          "model_module": "@jupyter-widgets/controls",
          "model_name": "DescriptionStyleModel",
          "model_module_version": "1.5.0",
          "state": {
            "_model_module": "@jupyter-widgets/controls",
            "_model_module_version": "1.5.0",
            "_model_name": "DescriptionStyleModel",
            "_view_count": null,
            "_view_module": "@jupyter-widgets/base",
            "_view_module_version": "1.2.0",
            "_view_name": "StyleView",
            "description_width": ""
          }
        },
        "ddcbd2e8e3e94120b3469edb6098c6d4": {
          "model_module": "@jupyter-widgets/base",
          "model_name": "LayoutModel",
          "model_module_version": "1.2.0",
          "state": {
            "_model_module": "@jupyter-widgets/base",
            "_model_module_version": "1.2.0",
            "_model_name": "LayoutModel",
            "_view_count": null,
            "_view_module": "@jupyter-widgets/base",
            "_view_module_version": "1.2.0",
            "_view_name": "LayoutView",
            "align_content": null,
            "align_items": null,
            "align_self": null,
            "border": null,
            "bottom": null,
            "display": null,
            "flex": null,
            "flex_flow": null,
            "grid_area": null,
            "grid_auto_columns": null,
            "grid_auto_flow": null,
            "grid_auto_rows": null,
            "grid_column": null,
            "grid_gap": null,
            "grid_row": null,
            "grid_template_areas": null,
            "grid_template_columns": null,
            "grid_template_rows": null,
            "height": null,
            "justify_content": null,
            "justify_items": null,
            "left": null,
            "margin": null,
            "max_height": null,
            "max_width": null,
            "min_height": null,
            "min_width": null,
            "object_fit": null,
            "object_position": null,
            "order": null,
            "overflow": null,
            "overflow_x": null,
            "overflow_y": null,
            "padding": null,
            "right": null,
            "top": null,
            "visibility": null,
            "width": null
          }
        },
        "4ae3e5c2cec84f82ad8bed6dc033a392": {
          "model_module": "@jupyter-widgets/controls",
          "model_name": "ProgressStyleModel",
          "model_module_version": "1.5.0",
          "state": {
            "_model_module": "@jupyter-widgets/controls",
            "_model_module_version": "1.5.0",
            "_model_name": "ProgressStyleModel",
            "_view_count": null,
            "_view_module": "@jupyter-widgets/base",
            "_view_module_version": "1.2.0",
            "_view_name": "StyleView",
            "bar_color": null,
            "description_width": ""
          }
        },
        "fa670cc3240c4721a1176e9c2df8b26a": {
          "model_module": "@jupyter-widgets/base",
          "model_name": "LayoutModel",
          "model_module_version": "1.2.0",
          "state": {
            "_model_module": "@jupyter-widgets/base",
            "_model_module_version": "1.2.0",
            "_model_name": "LayoutModel",
            "_view_count": null,
            "_view_module": "@jupyter-widgets/base",
            "_view_module_version": "1.2.0",
            "_view_name": "LayoutView",
            "align_content": null,
            "align_items": null,
            "align_self": null,
            "border": null,
            "bottom": null,
            "display": null,
            "flex": null,
            "flex_flow": null,
            "grid_area": null,
            "grid_auto_columns": null,
            "grid_auto_flow": null,
            "grid_auto_rows": null,
            "grid_column": null,
            "grid_gap": null,
            "grid_row": null,
            "grid_template_areas": null,
            "grid_template_columns": null,
            "grid_template_rows": null,
            "height": null,
            "justify_content": null,
            "justify_items": null,
            "left": null,
            "margin": null,
            "max_height": null,
            "max_width": null,
            "min_height": null,
            "min_width": null,
            "object_fit": null,
            "object_position": null,
            "order": null,
            "overflow": null,
            "overflow_x": null,
            "overflow_y": null,
            "padding": null,
            "right": null,
            "top": null,
            "visibility": null,
            "width": null
          }
        },
        "2b5911121e274ed6a15de5f43dd5aeae": {
          "model_module": "@jupyter-widgets/controls",
          "model_name": "DescriptionStyleModel",
          "model_module_version": "1.5.0",
          "state": {
            "_model_module": "@jupyter-widgets/controls",
            "_model_module_version": "1.5.0",
            "_model_name": "DescriptionStyleModel",
            "_view_count": null,
            "_view_module": "@jupyter-widgets/base",
            "_view_module_version": "1.2.0",
            "_view_name": "StyleView",
            "description_width": ""
          }
        }
      }
    }
  },
  "nbformat": 4,
  "nbformat_minor": 0
}
